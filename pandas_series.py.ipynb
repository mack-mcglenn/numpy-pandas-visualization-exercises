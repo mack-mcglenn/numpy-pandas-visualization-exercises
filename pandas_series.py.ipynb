{
 "cells": [
  {
   "cell_type": "markdown",
   "id": "5ec74d4c",
   "metadata": {},
   "source": [
    "import numpy as np"
   ]
  },
  {
   "cell_type": "code",
   "execution_count": 3,
   "id": "0498aecc",
   "metadata": {},
   "outputs": [],
   "source": [
    "import numpy as np\n",
    "import pandas as pd\n",
    "import matplotlib.pyplot as plt"
   ]
  },
  {
   "cell_type": "code",
   "execution_count": 5,
   "id": "a189659e",
   "metadata": {},
   "outputs": [
    {
     "data": {
      "text/plain": [
       "17"
      ]
     },
     "execution_count": 5,
     "metadata": {},
     "output_type": "execute_result"
    }
   ],
   "source": [
    "# Exercises Part I\n",
    "\n",
    "# Make a file named pandas_series.py or pandas_series.ipynb for the following exercises.\n",
    "\n",
    "# Use pandas to create a Series named fruits from the following list:\n",
    "\n",
    "# [\"kiwi\", \"mango\", \"strawberry\", \"pineapple\", \"gala apple\", \"honeycrisp apple\",\n",
    "#  \"tomato\", \"watermelon\", \"honeydew\", \"kiwi\", \"kiwi\", \"kiwi\", \"mango\",\n",
    "#  \"blueberry\", \"blackberry\", \"gooseberry\", \"papaya\"]\n",
    "\n",
    "# Use Series attributes and methods to explore your fruits Series.\n",
    "\n",
    "fruits_pd.shape\n",
    "#(17,)\n",
    "\n",
    "fruits_pd.size"
   ]
  },
  {
   "cell_type": "code",
   "execution_count": 4,
   "id": "68141249",
   "metadata": {},
   "outputs": [
    {
     "data": {
      "text/plain": [
       "0                 kiwi\n",
       "1                mango\n",
       "2           strawberry\n",
       "3            pineapple\n",
       "4           gala apple\n",
       "5     honeycrisp apple\n",
       "6               tomato\n",
       "7           watermelon\n",
       "8             honeydew\n",
       "9                 kiwi\n",
       "10                kiwi\n",
       "11                kiwi\n",
       "12               mango\n",
       "13           blueberry\n",
       "14          blackberry\n",
       "15          gooseberry\n",
       "16              papaya\n",
       "dtype: object"
      ]
     },
     "execution_count": 4,
     "metadata": {},
     "output_type": "execute_result"
    }
   ],
   "source": [
    "\n",
    "# Use pandas to create a Series named fruits from the following list:\n",
    "\n",
    "# [\"kiwi\", \"mango\", \"strawberry\", \"pineapple\", \"gala apple\", \"honeycrisp apple\",\n",
    "#  \"tomato\", \"watermelon\", \"honeydew\", \"kiwi\", \"kiwi\", \"kiwi\", \"mango\",\n",
    "#  \"blueberry\", \"blackberry\", \"gooseberry\", \"papaya\"]\n",
    "\n",
    "\n",
    "fruits = [\"kiwi\", \"mango\", \"strawberry\", \"pineapple\", \"gala apple\", \n",
    "          \"honeycrisp apple\", \"tomato\", \"watermelon\", \"honeydew\",\n",
    "          \"kiwi\", \"kiwi\", \"kiwi\", \"mango\", \"blueberry\", \"blackberry\",\n",
    "          \"gooseberry\", \"papaya\"]\n",
    "type(fruits)\n",
    "fruits\n",
    "\n",
    "#Converting my list to a series using pd.Series\n",
    "fruits_pd = pd.Series(fruits)\n",
    "fruits_pd\n",
    "# 0                 kiwi\n",
    "# 1                mango\n",
    "# 2           strawberry\n",
    "# 3            pineapple\n",
    "# 4           gala apple\n",
    "# 5     honeycrisp apple\n",
    "# 6               tomato\n",
    "# 7           watermelon\n",
    "# 8             honeydew\n",
    "# 9                 kiwi\n",
    "# 10                kiwi\n",
    "# 11                kiwi\n",
    "# 12               mango\n",
    "# 13           blueberry\n",
    "# 14          blackberry\n",
    "# 15          gooseberry\n",
    "# 16              papaya\n",
    "# dtype: object"
   ]
  },
  {
   "cell_type": "code",
   "execution_count": 16,
   "id": "4a333314",
   "metadata": {},
   "outputs": [
    {
     "data": {
      "text/plain": [
       "kiwi                4\n",
       "mango               2\n",
       "strawberry          1\n",
       "pineapple           1\n",
       "gala apple          1\n",
       "honeycrisp apple    1\n",
       "tomato              1\n",
       "watermelon          1\n",
       "honeydew            1\n",
       "blueberry           1\n",
       "blackberry          1\n",
       "gooseberry          1\n",
       "papaya              1\n",
       "dtype: int64"
      ]
     },
     "execution_count": 16,
     "metadata": {},
     "output_type": "execute_result"
    }
   ],
   "source": [
    "# Exercise 1.1: Determine the number of elements in fruits.\n",
    "fruits_pd.value_counts()"
   ]
  },
  {
   "cell_type": "code",
   "execution_count": 6,
   "id": "ac22473d",
   "metadata": {},
   "outputs": [
    {
     "data": {
      "text/plain": [
       "RangeIndex(start=0, stop=17, step=1)"
      ]
     },
     "execution_count": 6,
     "metadata": {},
     "output_type": "execute_result"
    }
   ],
   "source": [
    "# Exercise 1.2: Output only the index from fruits\n",
    "\n",
    "fruits_pd.index\n",
    "# RangeIndex(start=0, stop=17, step=1)\n",
    "\n"
   ]
  },
  {
   "cell_type": "code",
   "execution_count": 7,
   "id": "80b10618",
   "metadata": {},
   "outputs": [
    {
     "data": {
      "text/plain": [
       "array(['kiwi', 'mango', 'strawberry', 'pineapple', 'gala apple',\n",
       "       'honeycrisp apple', 'tomato', 'watermelon', 'honeydew', 'kiwi',\n",
       "       'kiwi', 'kiwi', 'mango', 'blueberry', 'blackberry', 'gooseberry',\n",
       "       'papaya'], dtype=object)"
      ]
     },
     "execution_count": 7,
     "metadata": {},
     "output_type": "execute_result"
    }
   ],
   "source": [
    "# Exercise 1.3: Output only the values from fruits\n",
    "\n",
    "fruits_pd.values\n",
    "# array(['kiwi', 'mango', 'strawberry', 'pineapple', 'gala apple',\n",
    "#        'honeycrisp apple', 'tomato', 'watermelon', 'honeydew', 'kiwi',\n",
    "#        'kiwi', 'kiwi', 'mango', 'blueberry', 'blackberry', 'gooseberry',\n",
    "#        'papaya'], dtype=object)"
   ]
  },
  {
   "cell_type": "code",
   "execution_count": 8,
   "id": "5f06b694",
   "metadata": {},
   "outputs": [
    {
     "data": {
      "text/plain": [
       "dtype('O')"
      ]
     },
     "execution_count": 8,
     "metadata": {},
     "output_type": "execute_result"
    }
   ],
   "source": [
    "# Exercise 1.4: Confirm the data type of the values in fruits.\n",
    "\n",
    "fruits_pd.dtype\n",
    "# dtype('O')"
   ]
  },
  {
   "cell_type": "code",
   "execution_count": 9,
   "id": "64aab618",
   "metadata": {},
   "outputs": [
    {
     "data": {
      "text/plain": [
       "0         kiwi\n",
       "3    pineapple\n",
       "dtype: object"
      ]
     },
     "execution_count": 9,
     "metadata": {},
     "output_type": "execute_result"
    }
   ],
   "source": [
    "# Exercise 1.5: Output only the first five values from fruits.\n",
    "# Output the last three values. Output two random values from fruits.\n",
    "\n",
    "#First five values:\n",
    "fruits_pd.head()\n",
    "\n",
    "# 0          kiwi\n",
    "# 1         mango\n",
    "# 2    strawberry\n",
    "# 3     pineapple\n",
    "# 4    gala apple\n",
    "# dtype: object\n",
    "\n",
    "#Last three values:\n",
    "fruits_pd.tail(3)\n",
    "\n",
    "# 14    blackberry\n",
    "# 15    gooseberry\n",
    "# 16        papaya\n",
    "# dtype: object\n",
    "\n",
    "#Two random values:\n",
    "fruits_pd.sample(2)\n",
    "\n",
    "# 4     gala apple\n",
    "# 15    gooseberry\n",
    "# dtype: object"
   ]
  },
  {
   "cell_type": "code",
   "execution_count": 58,
   "id": "6aa23ae7",
   "metadata": {},
   "outputs": [
    {
     "data": {
      "text/plain": [
       "count       17\n",
       "unique      13\n",
       "top       kiwi\n",
       "freq         4\n",
       "dtype: object"
      ]
     },
     "execution_count": 58,
     "metadata": {},
     "output_type": "execute_result"
    }
   ],
   "source": [
    "# Exercise 1.6: Run the .describe() on fruits to see what information it \n",
    "# returns when called on a Series with string values.\n",
    "\n",
    "fruits_pd.describe()\n",
    "\n",
    "# count       17\n",
    "# unique      13\n",
    "# top       kiwi\n",
    "# freq         4\n",
    "# dtype: object"
   ]
  },
  {
   "cell_type": "code",
   "execution_count": 10,
   "id": "943d240b",
   "metadata": {},
   "outputs": [
    {
     "data": {
      "text/plain": [
       "array(['kiwi', 'mango', 'strawberry', 'pineapple', 'gala apple',\n",
       "       'honeycrisp apple', 'tomato', 'watermelon', 'honeydew',\n",
       "       'blueberry', 'blackberry', 'gooseberry', 'papaya'], dtype=object)"
      ]
     },
     "execution_count": 10,
     "metadata": {},
     "output_type": "execute_result"
    }
   ],
   "source": [
    "# Exercise 1.7: Run the code necessary to produce only the unique string values from fruits.\n",
    "\n",
    "fruits_pd.unique()\n",
    "\n",
    "# array(['kiwi', 'mango', 'strawberry', 'pineapple', 'gala apple',\n",
    "#        'honeycrisp apple', 'tomato', 'watermelon', 'honeydew',\n",
    "#        'blueberry', 'blackberry', 'gooseberry', 'papaya'], dtype=object)"
   ]
  },
  {
   "cell_type": "code",
   "execution_count": 11,
   "id": "8b8df42d",
   "metadata": {},
   "outputs": [
    {
     "data": {
      "text/plain": [
       "kiwi                4\n",
       "mango               2\n",
       "strawberry          1\n",
       "pineapple           1\n",
       "gala apple          1\n",
       "honeycrisp apple    1\n",
       "tomato              1\n",
       "watermelon          1\n",
       "honeydew            1\n",
       "blueberry           1\n",
       "blackberry          1\n",
       "gooseberry          1\n",
       "papaya              1\n",
       "dtype: int64"
      ]
     },
     "execution_count": 11,
     "metadata": {},
     "output_type": "execute_result"
    }
   ],
   "source": [
    "# Exercise 1.8: Determine how many times each unique string value occurs in fruits.\n",
    "\n",
    "fruits_pd.value_counts()\n",
    "\n",
    "# kiwi                4\n",
    "# mango               2\n",
    "# strawberry          1\n",
    "# pineapple           1\n",
    "# gala apple          1\n",
    "# honeycrisp apple    1\n",
    "# tomato              1\n",
    "# watermelon          1\n",
    "# honeydew            1\n",
    "# blueberry           1\n",
    "# blackberry          1\n",
    "# gooseberry          1\n",
    "# papaya              1\n",
    "# dtype: int64"
   ]
  },
  {
   "cell_type": "code",
   "execution_count": 13,
   "id": "04d33230",
   "metadata": {},
   "outputs": [
    {
     "data": {
      "text/plain": [
       "kiwi    4\n",
       "dtype: int64"
      ]
     },
     "execution_count": 13,
     "metadata": {},
     "output_type": "execute_result"
    }
   ],
   "source": [
    "# Exercise 1.9: Determine the string value that occurs most frequently in fruits.\n",
    "\n",
    "fruits_pd.value_counts().nlargest(n=1, keep ='first')\n",
    "\n",
    "# kiwi    4\n",
    "# dtype: int64"
   ]
  },
  {
   "cell_type": "code",
   "execution_count": 12,
   "id": "3ce735b4",
   "metadata": {},
   "outputs": [
    {
     "data": {
      "text/plain": [
       "strawberry          1\n",
       "pineapple           1\n",
       "gala apple          1\n",
       "honeycrisp apple    1\n",
       "tomato              1\n",
       "watermelon          1\n",
       "honeydew            1\n",
       "blueberry           1\n",
       "blackberry          1\n",
       "gooseberry          1\n",
       "papaya              1\n",
       "dtype: int64"
      ]
     },
     "execution_count": 12,
     "metadata": {},
     "output_type": "execute_result"
    }
   ],
   "source": [
    "# Exercise 1.10: Determine the string value that occurs least frequently in fruits.\n",
    "\n",
    "fruits_pd.value_counts().nsmallest(n=1, keep ='all')\n",
    "\n",
    "# strawberry          1\n",
    "# pineapple           1\n",
    "# gala apple          1\n",
    "# honeycrisp apple    1\n",
    "# tomato              1\n",
    "# watermelon          1\n",
    "# honeydew            1\n",
    "# blueberry           1\n",
    "# blackberry          1\n",
    "# gooseberry          1\n",
    "# papaya              1\n",
    "# dtype: int64"
   ]
  },
  {
   "cell_type": "code",
   "execution_count": null,
   "id": "beeb56b6",
   "metadata": {},
   "outputs": [],
   "source": [
    "# Exercises Part II\n",
    "\n",
    "# Explore more attributes and methods while you continue to work with the fruits Series."
   ]
  },
  {
   "cell_type": "code",
   "execution_count": 14,
   "id": "55bdf7e6",
   "metadata": {},
   "outputs": [
    {
     "data": {
      "text/plain": [
       "0                 Kiwi\n",
       "1                Mango\n",
       "2           Strawberry\n",
       "3            Pineapple\n",
       "4           Gala Apple\n",
       "5     Honeycrisp Apple\n",
       "6               Tomato\n",
       "7           Watermelon\n",
       "8             Honeydew\n",
       "9                 Kiwi\n",
       "10                Kiwi\n",
       "11                Kiwi\n",
       "12               Mango\n",
       "13           Blueberry\n",
       "14          Blackberry\n",
       "15          Gooseberry\n",
       "16              Papaya\n",
       "dtype: object"
      ]
     },
     "execution_count": 14,
     "metadata": {},
     "output_type": "execute_result"
    }
   ],
   "source": [
    "# Exercise 2.1: Capitalize all the string values in fruits.\n",
    "\n",
    "fruits_pd.str.title()"
   ]
  },
  {
   "cell_type": "code",
   "execution_count": 15,
   "id": "6ce0d17d",
   "metadata": {},
   "outputs": [
    {
     "data": {
      "text/plain": [
       "14"
      ]
     },
     "execution_count": 15,
     "metadata": {},
     "output_type": "execute_result"
    }
   ],
   "source": [
    "# Exercise 2.2: Count the letter \"a\" in all the string values (use string vectorization).\n",
    "# fruits_pd.apply(lambda x: x.count('a'))\n",
    "\n",
    "sum(fruits_pd.str.count('a'))"
   ]
  },
  {
   "cell_type": "code",
   "execution_count": 16,
   "id": "449a062a",
   "metadata": {},
   "outputs": [
    {
     "data": {
      "text/plain": [
       "0     2\n",
       "1     2\n",
       "2     2\n",
       "3     4\n",
       "4     4\n",
       "5     5\n",
       "6     3\n",
       "7     4\n",
       "8     3\n",
       "9     2\n",
       "10    2\n",
       "11    2\n",
       "12    2\n",
       "13    3\n",
       "14    2\n",
       "15    4\n",
       "16    3\n",
       "dtype: int64"
      ]
     },
     "execution_count": 16,
     "metadata": {},
     "output_type": "execute_result"
    }
   ],
   "source": [
    "# Exercise 2.3: Output the number of vowels in each and every string value.\n",
    "\n",
    "#My way:\n",
    "sum(fruits_pd.str.count('a') + fruits_pd.str.count('e') + fruits_pd.str.count('i')\n",
    "   + fruits_pd.str.count('o') + fruits_pd.str.count('u'))\n",
    "\n",
    "#Madeline's ways:\n",
    "def count_vowels(string):\n",
    "    counter = 0\n",
    "    for letter in string:\n",
    "        if letter in 'aeiou':\n",
    "            counter +=1\n",
    "    return counter\n",
    "fruits_pd.apply(count_vowels)\n",
    "#OR\n",
    "fruits_pd.str.count('[aeiou]')"
   ]
  },
  {
   "cell_type": "code",
   "execution_count": 17,
   "id": "7e0bb3df",
   "metadata": {},
   "outputs": [
    {
     "data": {
      "text/plain": [
       "kiwi                            kiwi\n",
       "mango                          mango\n",
       "strawberry                strawberry\n",
       "pineapple                  pineapple\n",
       "gala apple                gala apple\n",
       "honeycrisp apple    honeycrisp apple\n",
       "tomato                        tomato\n",
       "watermelon                watermelon\n",
       "honeydew                    honeydew\n",
       "kiwi                            kiwi\n",
       "kiwi                            kiwi\n",
       "kiwi                            kiwi\n",
       "mango                          mango\n",
       "blueberry                  blueberry\n",
       "blackberry                blackberry\n",
       "gooseberry                gooseberry\n",
       "papaya                        papaya\n",
       "dtype: object"
      ]
     },
     "execution_count": 17,
     "metadata": {},
     "output_type": "execute_result"
    }
   ],
   "source": [
    "# Exercise 2.4: Write the code to get the longest string value from fruits.\n",
    "pd.Series(fruits_pd.values, index = fruits_pd.values)\n",
    "# fruits_pd.max()"
   ]
  },
  {
   "cell_type": "code",
   "execution_count": 18,
   "id": "caa34204",
   "metadata": {},
   "outputs": [
    {
     "data": {
      "text/plain": [
       "1                mango\n",
       "2           strawberry\n",
       "3            pineapple\n",
       "4           gala apple\n",
       "5     honeycrisp apple\n",
       "6               tomato\n",
       "7           watermelon\n",
       "8             honeydew\n",
       "12               mango\n",
       "13           blueberry\n",
       "14          blackberry\n",
       "15          gooseberry\n",
       "16              papaya\n",
       "dtype: object"
      ]
     },
     "execution_count": 18,
     "metadata": {},
     "output_type": "execute_result"
    }
   ],
   "source": [
    "# Exercise 2.5: Write the code to get the string values with 5 or more letters in the name.\n",
    "\n",
    "#My unnessecarily complex way:\n",
    "def cinco_y_arriba(string):\n",
    "    n = 4\n",
    "    if len(string) > n:\n",
    "        return string\n",
    "    else:\n",
    "        return 'menos de cinco :('\n",
    "\n",
    "fruits_pd.apply(cinco_y_arriba).value_counts()\n",
    "\n",
    "#Madeline's much less complicated way:\n",
    "fruits_pd[fruits_pd.apply(len) >=5]"
   ]
  },
  {
   "cell_type": "code",
   "execution_count": 19,
   "id": "a55234d5",
   "metadata": {},
   "outputs": [
    {
     "data": {
      "text/plain": [
       "6         tomato\n",
       "15    gooseberry\n",
       "dtype: object"
      ]
     },
     "execution_count": 19,
     "metadata": {},
     "output_type": "execute_result"
    }
   ],
   "source": [
    "# Exercise 2.6: Find the fruit(s) containing the letter \"o\" two or more times.\n",
    "\n",
    "# def has_an_o(string):\n",
    "#     if 'o' in string:\n",
    "#         return string\n",
    "#     else:\n",
    "#         return 'ohh nooo'\n",
    "    \n",
    "o_mask= fruits_pd.str.lower().str.count('o') >= 2\n",
    "fruits_pd[o_mask]"
   ]
  },
  {
   "cell_type": "code",
   "execution_count": 20,
   "id": "37663ca7",
   "metadata": {},
   "outputs": [
    {
     "data": {
      "text/plain": [
       "2     strawberry\n",
       "13     blueberry\n",
       "14    blackberry\n",
       "15    gooseberry\n",
       "dtype: object"
      ]
     },
     "execution_count": 20,
     "metadata": {},
     "output_type": "execute_result"
    }
   ],
   "source": [
    "# Exercise 2.7: Write the code to get only the string values containing the substring \"berry\".\n",
    "\n",
    "'berry' in 'berry'\n",
    "\n",
    "fruits_pd[fruits_pd.str.contains('berry')]\n",
    "\n",
    "#Madeline's way\n",
    "fruits_pd[fruits_pd.apply(lambda x: 'berry' in x)]"
   ]
  },
  {
   "cell_type": "code",
   "execution_count": 40,
   "id": "9e14f036",
   "metadata": {},
   "outputs": [
    {
     "data": {
      "text/plain": [
       "3           pineapple\n",
       "4          gala apple\n",
       "5    honeycrisp apple\n",
       "dtype: object"
      ]
     },
     "execution_count": 40,
     "metadata": {},
     "output_type": "execute_result"
    }
   ],
   "source": [
    "# Exercise 2.8: Write the code to get only the string values containing the substring \"apple\".\n",
    "\n",
    "'apple' in 'apple'\n",
    "\n",
    "fruits_pd[fruits_pd.str.contains('apple')]"
   ]
  },
  {
   "cell_type": "code",
   "execution_count": 37,
   "id": "8de2faa2",
   "metadata": {},
   "outputs": [
    {
     "data": {
      "text/plain": [
       "'honeycrisp apple'"
      ]
     },
     "execution_count": 37,
     "metadata": {},
     "output_type": "execute_result"
    }
   ],
   "source": [
    "# Exercise 2.9: Which string value contains the most vowels?\n",
    "\n",
    "fruits_pd[fruits_pd.apply(count_vowels).max()]"
   ]
  },
  {
   "cell_type": "code",
   "execution_count": 52,
   "id": "fc60f6e7",
   "metadata": {},
   "outputs": [
    {
     "data": {
      "text/plain": [
       "'hnvidduckkqxwymbimkccexbkmqygkxoyndmcxnwqarhyffsjpsrabtjzsypmzadfavyrnndndvswreauxovncxtwzpwejilzjrmmbbgbyxvjtewqthafnbkqplarokkyydtubbmnexoypulzwfhqvckdpqtpoppzqrmcvhhpwgjwupgzhiofohawytlsiyecuproguy'"
      ]
     },
     "execution_count": 52,
     "metadata": {},
     "output_type": "execute_result"
    }
   ],
   "source": [
    "# Exercise III\n",
    "\n",
    "letters='hnvidduckkqxwymbimkccexbkmqygkxoyndmcxnwqarhyffsjpsrabtjzsypmzadfavyrnndndvswreauxovncxtwzpwejilzjrmmbbgbyxvjtewqthafnbkqplarokkyydtubbmnexoypulzwfhqvckdpqtpoppzqrmcvhhpwgjwupgzhiofohawytlsiyecuproguy'\n",
    "letters"
   ]
  },
  {
   "cell_type": "code",
   "execution_count": 56,
   "id": "e4e8bf41",
   "metadata": {},
   "outputs": [
    {
     "data": {
      "text/plain": [
       "0      h\n",
       "1      n\n",
       "2      v\n",
       "3      i\n",
       "4      d\n",
       "      ..\n",
       "195    r\n",
       "196    o\n",
       "197    g\n",
       "198    u\n",
       "199    y\n",
       "Length: 200, dtype: object"
      ]
     },
     "execution_count": 56,
     "metadata": {},
     "output_type": "execute_result"
    }
   ],
   "source": [
    "# Exercise 3.1.1: Which letter occurs the most frequently in the letters Series?\n",
    "#The letter Y\n",
    "\n",
    "pdletters = pd.Series(list(letters))\n",
    "pdletters"
   ]
  },
  {
   "cell_type": "code",
   "execution_count": 59,
   "id": "fd1d8a0d",
   "metadata": {},
   "outputs": [
    {
     "data": {
      "text/plain": [
       "y    13\n",
       "p    12\n",
       "w    10\n",
       "dtype: int64"
      ]
     },
     "execution_count": 59,
     "metadata": {},
     "output_type": "execute_result"
    }
   ],
   "source": [
    "pdletters.value_counts().head(3)"
   ]
  },
  {
   "cell_type": "code",
   "execution_count": 61,
   "id": "e26a508c",
   "metadata": {},
   "outputs": [
    {
     "data": {
      "text/plain": [
       "l    4\n",
       "dtype: int64"
      ]
     },
     "execution_count": 61,
     "metadata": {},
     "output_type": "execute_result"
    }
   ],
   "source": [
    "# Exercise 3.1.2: Which letter occurs the Least frequently?\n",
    "#The letter L\n",
    "\n",
    "pdletters.value_counts().tail(1)"
   ]
  },
  {
   "cell_type": "code",
   "execution_count": 63,
   "id": "11d31bfc",
   "metadata": {
    "scrolled": true
   },
   "outputs": [
    {
     "data": {
      "text/plain": [
       "34"
      ]
     },
     "execution_count": 63,
     "metadata": {},
     "output_type": "execute_result"
    }
   ],
   "source": [
    "#Exercise 3.1.3: How many vowels are in the Series?\n",
    "\n",
    "pdletters.apply(count_vowels).sum()"
   ]
  },
  {
   "cell_type": "code",
   "execution_count": 68,
   "id": "ef71b6c9",
   "metadata": {},
   "outputs": [
    {
     "data": {
      "text/plain": [
       "166"
      ]
     },
     "execution_count": 68,
     "metadata": {},
     "output_type": "execute_result"
    }
   ],
   "source": [
    "# Exercise 3.1.4: How many consonants are in the Series?\n",
    "\n",
    "pdletters.str.count('[bcdfghjklmnpqrstvwxyz]').sum()"
   ]
  },
  {
   "cell_type": "code",
   "execution_count": 70,
   "id": "f8c31cf2",
   "metadata": {},
   "outputs": [
    {
     "data": {
      "text/plain": [
       "0      H\n",
       "1      N\n",
       "2      V\n",
       "3      I\n",
       "4      D\n",
       "      ..\n",
       "195    R\n",
       "196    O\n",
       "197    G\n",
       "198    U\n",
       "199    Y\n",
       "Length: 200, dtype: object"
      ]
     },
     "execution_count": 70,
     "metadata": {},
     "output_type": "execute_result"
    }
   ],
   "source": [
    "# Exercise 3.1.5: Create a Series that has all of the same letters but uppercased.\n",
    "\n",
    "pdletters.str.upper()"
   ]
  },
  {
   "cell_type": "code",
   "execution_count": 73,
   "id": "55901afc",
   "metadata": {},
   "outputs": [
    {
     "data": {
      "text/plain": [
       "[Text(0.5, 0, 'Letter'), Text(0, 0.5, 'Number of Occur')]"
      ]
     },
     "execution_count": 73,
     "metadata": {},
     "output_type": "execute_result"
    },
    {
     "data": {
      "image/png": "[encoded data removed]",
      "text/plain": [
       "<Figure size 640x480 with 1 Axes>"
      ]
     },
     "metadata": {},
     "output_type": "display_data"
    }
   ],
   "source": [
    "# Exercise 3.1.6: Create a bar plot of the frequencies of the 6 most commonly occuring letters.\n",
    "\n",
    "pdletters.value_counts().head(6).plot.bar( title = \"Most Common Letters\").set(xlabel='Letter',ylabel='Number of Occur')"
   ]
  },
  {
   "cell_type": "code",
   "execution_count": 75,
   "id": "543ac04e",
   "metadata": {},
   "outputs": [
    {
     "data": {
      "text/plain": [
       "['$796,459.41',\n",
       " '$278.60',\n",
       " '$482,571.67',\n",
       " '$4,503,915.98',\n",
       " '$2,121,418.3',\n",
       " '$1,260,813.3',\n",
       " '$87,231.01',\n",
       " '$1,509,175.45',\n",
       " '$4,138,548.00',\n",
       " '$2,848,913.80',\n",
       " '$594,715.39',\n",
       " '$4,789,988.17',\n",
       " '$4,513,644.5',\n",
       " '$3,191,059.97',\n",
       " '$1,758,712.24',\n",
       " '$4,338,283.54',\n",
       " '$4,738,303.38',\n",
       " '$2,791,759.67',\n",
       " '$769,681.94',\n",
       " '$452,650.23']"
      ]
     },
     "execution_count": 75,
     "metadata": {},
     "output_type": "execute_result"
    }
   ],
   "source": [
    "cream =['$796,459.41', '$278.60', '$482,571.67', '$4,503,915.98', '$2,121,418.3', '$1,260,813.3', '$87,231.01', '$1,509,175.45', '$4,138,548.00', '$2,848,913.80', '$594,715.39', '$4,789,988.17', '$4,513,644.5', \n",
    " '$3,191,059.97', '$1,758,712.24', '$4,338,283.54', '$4,738,303.38', '$2,791,759.67', '$769,681.94', '$452,650.23']\n",
    "cream"
   ]
  },
  {
   "cell_type": "code",
   "execution_count": 81,
   "id": "fd8ac17b",
   "metadata": {},
   "outputs": [
    {
     "data": {
      "text/plain": [
       "0       $796,459.41\n",
       "1           $278.60\n",
       "2       $482,571.67\n",
       "3     $4,503,915.98\n",
       "4      $2,121,418.3\n",
       "5      $1,260,813.3\n",
       "6        $87,231.01\n",
       "7     $1,509,175.45\n",
       "8     $4,138,548.00\n",
       "9     $2,848,913.80\n",
       "10      $594,715.39\n",
       "11    $4,789,988.17\n",
       "12     $4,513,644.5\n",
       "13    $3,191,059.97\n",
       "14    $1,758,712.24\n",
       "15    $4,338,283.54\n",
       "16    $4,738,303.38\n",
       "17    $2,791,759.67\n",
       "18      $769,681.94\n",
       "19      $452,650.23\n",
       "dtype: object"
      ]
     },
     "execution_count": 81,
     "metadata": {},
     "output_type": "execute_result"
    }
   ],
   "source": [
    "# Exercise 3.2.1: What is the data type of the numbers Series?\n",
    "# A: object or string\n",
    "\n",
    "cream = pd.Series(cream)\n",
    "cream"
   ]
  },
  {
   "cell_type": "code",
   "execution_count": 87,
   "id": "42ff4dc2",
   "metadata": {},
   "outputs": [
    {
     "data": {
      "text/plain": [
       "20"
      ]
     },
     "execution_count": 87,
     "metadata": {},
     "output_type": "execute_result"
    }
   ],
   "source": [
    "# Exercise 3.2.2: How many elements are in the number Series?\n",
    "# A: 20\n",
    "\n",
    "len(cream)"
   ]
  },
  {
   "cell_type": "code",
   "execution_count": 112,
   "id": "bd94f636",
   "metadata": {},
   "outputs": [],
   "source": [
    "# Exercise 3.2.3: Perform the necessary manipulations by accessing Series \n",
    "# attributes and methods to convert the numbers Series to a numeric data type.\n"
   ]
  },
  {
   "cell_type": "code",
   "execution_count": 109,
   "id": "7cef7118",
   "metadata": {},
   "outputs": [
    {
     "data": {
      "text/plain": [
       "0       796,459.41\n",
       "1           278.60\n",
       "2       482,571.67\n",
       "3     4,503,915.98\n",
       "4      2,121,418.3\n",
       "5      1,260,813.3\n",
       "6        87,231.01\n",
       "7     1,509,175.45\n",
       "8     4,138,548.00\n",
       "9     2,848,913.80\n",
       "10      594,715.39\n",
       "11    4,789,988.17\n",
       "12     4,513,644.5\n",
       "13    3,191,059.97\n",
       "14    1,758,712.24\n",
       "15    4,338,283.54\n",
       "16    4,738,303.38\n",
       "17    2,791,759.67\n",
       "18      769,681.94\n",
       "19      452,650.23\n",
       "dtype: object"
      ]
     },
     "execution_count": 109,
     "metadata": {},
     "output_type": "execute_result"
    }
   ],
   "source": [
    "cream =cream.replace('$','')\n",
    "cream"
   ]
  },
  {
   "cell_type": "code",
   "execution_count": 119,
   "id": "fb96e19e",
   "metadata": {},
   "outputs": [
    {
     "data": {
      "text/plain": [
       "0      796459.41\n",
       "1         278.60\n",
       "2      482571.67\n",
       "3     4503915.98\n",
       "4      2121418.3\n",
       "5      1260813.3\n",
       "6       87231.01\n",
       "7     1509175.45\n",
       "8     4138548.00\n",
       "9     2848913.80\n",
       "10     594715.39\n",
       "11    4789988.17\n",
       "12     4513644.5\n",
       "13    3191059.97\n",
       "14    1758712.24\n",
       "15    4338283.54\n",
       "16    4738303.38\n",
       "17    2791759.67\n",
       "18     769681.94\n",
       "19     452650.23\n",
       "dtype: object"
      ]
     },
     "execution_count": 119,
     "metadata": {},
     "output_type": "execute_result"
    }
   ],
   "source": [
    "getthemoney =cream.str.replace( ',','')\n",
    "getthemoney"
   ]
  },
  {
   "cell_type": "code",
   "execution_count": 125,
   "id": "43f04b3d",
   "metadata": {},
   "outputs": [
    {
     "data": {
      "text/plain": [
       "0      796459.41\n",
       "1         278.60\n",
       "2      482571.67\n",
       "3     4503915.98\n",
       "4     2121418.30\n",
       "5     1260813.30\n",
       "6       87231.01\n",
       "7     1509175.45\n",
       "8     4138548.00\n",
       "9     2848913.80\n",
       "10     594715.39\n",
       "11    4789988.17\n",
       "12    4513644.50\n",
       "13    3191059.97\n",
       "14    1758712.24\n",
       "15    4338283.54\n",
       "16    4738303.38\n",
       "17    2791759.67\n",
       "18     769681.94\n",
       "19     452650.23\n",
       "dtype: float64"
      ]
     },
     "execution_count": 125,
     "metadata": {},
     "output_type": "execute_result"
    }
   ],
   "source": [
    "getthemoney =getthemoney.astype('float')\n",
    "getthemoney"
   ]
  },
  {
   "cell_type": "code",
   "execution_count": 126,
   "id": "cd436f68",
   "metadata": {},
   "outputs": [
    {
     "data": {
      "text/plain": [
       "4789988.17"
      ]
     },
     "execution_count": 126,
     "metadata": {},
     "output_type": "execute_result"
    }
   ],
   "source": [
    "# Exercise 3.2.4: Run the code to discover the maximum value from the Series.\n",
    "\n",
    "getthemoney.max()"
   ]
  },
  {
   "cell_type": "code",
   "execution_count": 127,
   "id": "a069ed48",
   "metadata": {},
   "outputs": [
    {
     "data": {
      "text/plain": [
       "278.6"
      ]
     },
     "execution_count": 127,
     "metadata": {},
     "output_type": "execute_result"
    }
   ],
   "source": [
    "# Exercise 3.2.5: Run the code to discover the minimum value from the Series.\n",
    "\n",
    "getthemoney.min()"
   ]
  },
  {
   "cell_type": "code",
   "execution_count": 130,
   "id": "0c4dcfa3",
   "metadata": {},
   "outputs": [
    {
     "data": {
      "text/plain": [
       "4789709.57"
      ]
     },
     "execution_count": 130,
     "metadata": {},
     "output_type": "execute_result"
    }
   ],
   "source": [
    "# Exercise 3.2.6: What is the range of the values in the Series?\n",
    "\n",
    "getthemoney.max() - getthemoney.min()"
   ]
  },
  {
   "cell_type": "code",
   "execution_count": 139,
   "id": "3072d436",
   "metadata": {},
   "outputs": [
    {
     "data": {
      "text/plain": [
       "<AxesSubplot:title={'center':'Cash Rules Everything Around Me'}, xlabel='Account Range (Dolla Dolla Bill, Yall)', ylabel='Number of Accounts in Range'>"
      ]
     },
     "execution_count": 139,
     "metadata": {},
     "output_type": "execute_result"
    },
    {
     "data": {
      "image/png": "[encoded data removed]",
      "text/plain": [
       "<Figure size 640x480 with 1 Axes>"
      ]
     },
     "metadata": {},
     "output_type": "display_data"
    }
   ],
   "source": [
    "# Exercise 3.2.7: Bin the data into 4 equally sized intervals or bins and output how many values\n",
    "#fall into each bin.\n",
    "\n",
    "getthemoney.value_counts(bins=4).plot.bar(title='Cash Rules Everything Around Me',\n",
    "                                          ylabel= \"Number of Accounts in Range\", xlabel=\"Account Range (Dolla Dolla Bill, Yall)\")"
   ]
  },
  {
   "cell_type": "code",
   "execution_count": 143,
   "id": "aae28115",
   "metadata": {},
   "outputs": [
    {
     "data": {
      "text/plain": [
       "0     60\n",
       "1     86\n",
       "2     75\n",
       "3     62\n",
       "4     93\n",
       "5     71\n",
       "6     60\n",
       "7     83\n",
       "8     95\n",
       "9     78\n",
       "10    65\n",
       "11    72\n",
       "12    69\n",
       "13    81\n",
       "14    96\n",
       "15    80\n",
       "16    85\n",
       "17    92\n",
       "18    82\n",
       "19    78\n",
       "dtype: int64"
      ]
     },
     "execution_count": 143,
     "metadata": {},
     "output_type": "execute_result"
    }
   ],
   "source": [
    "exam_scores=[60, 86, 75, 62, 93, 71, 60, 83, 95, 78, 65, 72, 69, 81, 96, 80, 85, 92, 82, 78]\n",
    "exam_scores= pd.Series(exam_scores)\n",
    "exam_scores"
   ]
  },
  {
   "cell_type": "code",
   "execution_count": 144,
   "id": "d09b8244",
   "metadata": {},
   "outputs": [
    {
     "data": {
      "text/plain": [
       "20"
      ]
     },
     "execution_count": 144,
     "metadata": {},
     "output_type": "execute_result"
    }
   ],
   "source": [
    "# Exercise 3.3.1: How many elements are in the exam_scores Series?\n",
    "\n",
    "exam_scores.count()"
   ]
  },
  {
   "cell_type": "code",
   "execution_count": 146,
   "id": "150a9029",
   "metadata": {},
   "outputs": [
    {
     "data": {
      "text/plain": [
       "count    20.000000\n",
       "mean     78.150000\n",
       "std      11.352139\n",
       "min      60.000000\n",
       "25%      70.500000\n",
       "50%      79.000000\n",
       "75%      85.250000\n",
       "max      96.000000\n",
       "dtype: float64"
      ]
     },
     "execution_count": 146,
     "metadata": {},
     "output_type": "execute_result"
    }
   ],
   "source": [
    "# Exercise 3.3.2: Run the code to discover the minimum, the maximum, the mean, and the median scores\n",
    "# for the exam_scores Series.\n",
    "\n",
    "exam_scores.describe()"
   ]
  },
  {
   "cell_type": "code",
   "execution_count": 149,
   "id": "6c460564",
   "metadata": {},
   "outputs": [
    {
     "data": {
      "text/plain": [
       "[Text(0.5, 0, 'Grade Ranges'), Text(0, 0.5, 'Number of Students')]"
      ]
     },
     "execution_count": 149,
     "metadata": {},
     "output_type": "execute_result"
    },
    {
     "data": {
      "image/png": "[encoded data removed]",
      "text/plain": [
       "<Figure size 640x480 with 1 Axes>"
      ]
     },
     "metadata": {},
     "output_type": "display_data"
    }
   ],
   "source": [
    "# Exercise 3.3.3: Plot the Series in a meaningful way and make sure your chart has a title and axis labels.\n",
    "\n",
    "exam_scores.plot.hist( title = \"Class Range of Exam Scores\").set(xlabel='Grade Ranges',ylabel='Number of Students')"
   ]
  },
  {
   "cell_type": "code",
   "execution_count": 152,
   "id": "bae5476c",
   "metadata": {},
   "outputs": [
    {
     "data": {
      "text/plain": [
       "0      64\n",
       "1      90\n",
       "2      79\n",
       "3      66\n",
       "4      97\n",
       "5      75\n",
       "6      64\n",
       "7      87\n",
       "8      99\n",
       "9      82\n",
       "10     69\n",
       "11     76\n",
       "12     73\n",
       "13     85\n",
       "14    100\n",
       "15     84\n",
       "16     89\n",
       "17     96\n",
       "18     86\n",
       "19     82\n",
       "dtype: int64"
      ]
     },
     "execution_count": 152,
     "metadata": {},
     "output_type": "execute_result"
    }
   ],
   "source": [
    "# Write the code necessary to implement a curve for your exam_grades Series and save this as \n",
    "# curved_grades. Add the necessary points to the highest grade to make it 100, and add the \n",
    "# same number of points to every other score in the Series as well.\n",
    "\n",
    "curved_grades= exam_scores + (100-exam_scores).min()\n",
    "curved_grades"
   ]
  },
  {
   "cell_type": "code",
   "execution_count": 153,
   "id": "3d6ab5d0",
   "metadata": {},
   "outputs": [
    {
     "ename": "ValueError",
     "evalue": "bins must increase monotonically.",
     "output_type": "error",
     "traceback": [
      "\u001b[0;31m---------------------------------------------------------------------------\u001b[0m",
      "\u001b[0;31mValueError\u001b[0m                                Traceback (most recent call last)",
      "\u001b[0;32m/var/folders/3f/gcykrn_x5kj_vxldk0lkx7p00000gn/T/ipykernel_90911/3962162090.py\u001b[0m in \u001b[0;36m<module>\u001b[0;34m\u001b[0m\n\u001b[1;32m      3\u001b[0m \u001b[0;31m# Save this as a Series named letter_grades.\u001b[0m\u001b[0;34m\u001b[0m\u001b[0;34m\u001b[0m\u001b[0m\n\u001b[1;32m      4\u001b[0m \u001b[0;34m\u001b[0m\u001b[0m\n\u001b[0;32m----> 5\u001b[0;31m \u001b[0mletter_grades\u001b[0m \u001b[0;34m=\u001b[0m \u001b[0mpd\u001b[0m\u001b[0;34m.\u001b[0m\u001b[0mcut\u001b[0m\u001b[0;34m(\u001b[0m\u001b[0mcurved_grades\u001b[0m\u001b[0;34m,\u001b[0m \u001b[0mbins\u001b[0m \u001b[0;34m=\u001b[0m\u001b[0;34m[\u001b[0m\u001b[0;36m0\u001b[0m\u001b[0;34m-\u001b[0m\u001b[0;36m69\u001b[0m\u001b[0;34m,\u001b[0m\u001b[0;36m70\u001b[0m\u001b[0;34m-\u001b[0m\u001b[0;36m79\u001b[0m\u001b[0;34m,\u001b[0m \u001b[0;36m80\u001b[0m\u001b[0;34m-\u001b[0m\u001b[0;36m89\u001b[0m\u001b[0;34m,\u001b[0m \u001b[0;36m90\u001b[0m\u001b[0;34m-\u001b[0m\u001b[0;36m100\u001b[0m\u001b[0;34m]\u001b[0m\u001b[0;34m)\u001b[0m\u001b[0;34m\u001b[0m\u001b[0;34m\u001b[0m\u001b[0m\n\u001b[0m",
      "\u001b[0;32m~/opt/anaconda3/lib/python3.9/site-packages/pandas/core/reshape/tile.py\u001b[0m in \u001b[0;36mcut\u001b[0;34m(x, bins, right, labels, retbins, precision, include_lowest, duplicates, ordered)\u001b[0m\n\u001b[1;32m    288\u001b[0m         \u001b[0;31m# GH 26045: cast to float64 to avoid an overflow\u001b[0m\u001b[0;34m\u001b[0m\u001b[0;34m\u001b[0m\u001b[0m\n\u001b[1;32m    289\u001b[0m         \u001b[0;32mif\u001b[0m \u001b[0;34m(\u001b[0m\u001b[0mnp\u001b[0m\u001b[0;34m.\u001b[0m\u001b[0mdiff\u001b[0m\u001b[0;34m(\u001b[0m\u001b[0mbins\u001b[0m\u001b[0;34m.\u001b[0m\u001b[0mastype\u001b[0m\u001b[0;34m(\u001b[0m\u001b[0;34m\"float64\"\u001b[0m\u001b[0;34m)\u001b[0m\u001b[0;34m)\u001b[0m \u001b[0;34m<\u001b[0m \u001b[0;36m0\u001b[0m\u001b[0;34m)\u001b[0m\u001b[0;34m.\u001b[0m\u001b[0many\u001b[0m\u001b[0;34m(\u001b[0m\u001b[0;34m)\u001b[0m\u001b[0;34m:\u001b[0m\u001b[0;34m\u001b[0m\u001b[0;34m\u001b[0m\u001b[0m\n\u001b[0;32m--> 290\u001b[0;31m             \u001b[0;32mraise\u001b[0m \u001b[0mValueError\u001b[0m\u001b[0;34m(\u001b[0m\u001b[0;34m\"bins must increase monotonically.\"\u001b[0m\u001b[0;34m)\u001b[0m\u001b[0;34m\u001b[0m\u001b[0;34m\u001b[0m\u001b[0m\n\u001b[0m\u001b[1;32m    291\u001b[0m \u001b[0;34m\u001b[0m\u001b[0m\n\u001b[1;32m    292\u001b[0m     fac, bins = _bins_to_cuts(\n",
      "\u001b[0;31mValueError\u001b[0m: bins must increase monotonically."
     ]
    }
   ],
   "source": [
    "# Exercise 3.3.5: Use a method to convert each of the numeric values in the curved_grades Series into a \n",
    "# categorical value of letter grades.For example, 86 should be a 'B' and 95 should be an 'A'.\n",
    "# Save this as a Series named letter_grades.\n",
    "\n",
    "letter_grades = pd.cut(curved_grades, bins =[0-69,70-79, 80-89, 90-100])"
   ]
  },
  {
   "cell_type": "code",
   "execution_count": 157,
   "id": "524cc9ca",
   "metadata": {},
   "outputs": [
    {
     "data": {
      "text/plain": [
       "0     F\n",
       "1     B\n",
       "2     C\n",
       "3     F\n",
       "4     A\n",
       "5     C\n",
       "6     F\n",
       "7     B\n",
       "8     A\n",
       "9     B\n",
       "10    F\n",
       "11    C\n",
       "12    C\n",
       "13    B\n",
       "14    A\n",
       "15    B\n",
       "16    B\n",
       "17    A\n",
       "18    B\n",
       "19    B\n",
       "dtype: category\n",
       "Categories (4, object): ['F' < 'C' < 'B' < 'A']"
      ]
     },
     "execution_count": 157,
     "metadata": {},
     "output_type": "execute_result"
    }
   ],
   "source": [
    "letter_grades = pd.cut(curved_grades, bins =[0, 70, 80, 90, 100], labels=['F','C','B','A'])\n",
    "letter_grades"
   ]
  },
  {
   "cell_type": "code",
   "execution_count": 163,
   "id": "753c02e7",
   "metadata": {},
   "outputs": [
    {
     "data": {
      "text/plain": [
       "<AxesSubplot:title={'center':'Class Count of Curved Grades'}, xlabel=' Letter Grade', ylabel=' Count of Students'>"
      ]
     },
     "execution_count": 163,
     "metadata": {},
     "output_type": "execute_result"
    },
    {
     "data": {
      "image/png": "[encoded data removed]",
      "text/plain": [
       "<Figure size 640x480 with 1 Axes>"
      ]
     },
     "metadata": {},
     "output_type": "display_data"
    }
   ],
   "source": [
    "letter_grades.value_counts().sort_index().plot.bar(title=\"Class Count of Curved Grades\",\n",
    "                                                  xlabel=\" Letter Grade\", ylabel=\" Count of Students\")\n"
   ]
  }
 ],
 "metadata": {
  "kernelspec": {
   "display_name": "Python 3 (ipykernel)",
   "language": "python",
   "name": "python3"
  },
  "language_info": {
   "codemirror_mode": {
    "name": "ipython",
    "version": 3
   },
   "file_extension": ".py",
   "mimetype": "text/x-python",
   "name": "python",
   "nbconvert_exporter": "python",
   "pygments_lexer": "ipython3",
   "version": "3.9.13"
  }
 },
 "nbformat": 4,
 "nbformat_minor": 5
}
