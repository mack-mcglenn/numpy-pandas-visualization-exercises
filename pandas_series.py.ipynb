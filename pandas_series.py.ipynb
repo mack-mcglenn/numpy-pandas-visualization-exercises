{
 "cells": [
  {
   "cell_type": "markdown",
   "id": "5ec74d4c",
   "metadata": {},
   "source": [
    "import numpy as np"
   ]
  },
  {
   "cell_type": "code",
   "execution_count": 7,
   "id": "0498aecc",
   "metadata": {},
   "outputs": [],
   "source": [
    "import numpy as np\n",
    "import pandas as pd\n",
    "import matplotlib.pyplot as plt"
   ]
  },
  {
   "cell_type": "code",
   "execution_count": 54,
   "id": "a189659e",
   "metadata": {},
   "outputs": [
    {
     "data": {
      "text/plain": [
       "17"
      ]
     },
     "execution_count": 54,
     "metadata": {},
     "output_type": "execute_result"
    }
   ],
   "source": [
    "# Exercises Part I\n",
    "\n",
    "# Make a file named pandas_series.py or pandas_series.ipynb for the following exercises.\n",
    "\n",
    "# Use pandas to create a Series named fruits from the following list:\n",
    "\n",
    "# [\"kiwi\", \"mango\", \"strawberry\", \"pineapple\", \"gala apple\", \"honeycrisp apple\",\n",
    "#  \"tomato\", \"watermelon\", \"honeydew\", \"kiwi\", \"kiwi\", \"kiwi\", \"mango\",\n",
    "#  \"blueberry\", \"blackberry\", \"gooseberry\", \"papaya\"]\n",
    "\n",
    "# Use Series attributes and methods to explore your fruits Series.\n",
    "\n",
    "fruits_pd.shape\n",
    "#(17,)\n",
    "\n",
    "fruits_pd.size"
   ]
  },
  {
   "cell_type": "code",
   "execution_count": 13,
   "id": "68141249",
   "metadata": {},
   "outputs": [
    {
     "data": {
      "text/plain": [
       "0                 kiwi\n",
       "1                mango\n",
       "2           strawberry\n",
       "3            pineapple\n",
       "4           gala apple\n",
       "5     honeycrisp apple\n",
       "6               tomato\n",
       "7           watermelon\n",
       "8             honeydew\n",
       "9                 kiwi\n",
       "10                kiwi\n",
       "11                kiwi\n",
       "12               mango\n",
       "13           blueberry\n",
       "14          blackberry\n",
       "15          gooseberry\n",
       "16              papaya\n",
       "dtype: object"
      ]
     },
     "execution_count": 13,
     "metadata": {},
     "output_type": "execute_result"
    }
   ],
   "source": [
    "\n",
    "# Use pandas to create a Series named fruits from the following list:\n",
    "\n",
    "# [\"kiwi\", \"mango\", \"strawberry\", \"pineapple\", \"gala apple\", \"honeycrisp apple\",\n",
    "#  \"tomato\", \"watermelon\", \"honeydew\", \"kiwi\", \"kiwi\", \"kiwi\", \"mango\",\n",
    "#  \"blueberry\", \"blackberry\", \"gooseberry\", \"papaya\"]\n",
    "\n",
    "\n",
    "fruits = [\"kiwi\", \"mango\", \"strawberry\", \"pineapple\", \"gala apple\", \n",
    "          \"honeycrisp apple\", \"tomato\", \"watermelon\", \"honeydew\",\n",
    "          \"kiwi\", \"kiwi\", \"kiwi\", \"mango\", \"blueberry\", \"blackberry\",\n",
    "          \"gooseberry\", \"papaya\"]\n",
    "type(fruits)\n",
    "fruits\n",
    "\n",
    "#Converting my list to a series using pd.Series\n",
    "fruits_pd = pd.Series(fruits)\n",
    "fruits_pd\n",
    "# 0                 kiwi\n",
    "# 1                mango\n",
    "# 2           strawberry\n",
    "# 3            pineapple\n",
    "# 4           gala apple\n",
    "# 5     honeycrisp apple\n",
    "# 6               tomato\n",
    "# 7           watermelon\n",
    "# 8             honeydew\n",
    "# 9                 kiwi\n",
    "# 10                kiwi\n",
    "# 11                kiwi\n",
    "# 12               mango\n",
    "# 13           blueberry\n",
    "# 14          blackberry\n",
    "# 15          gooseberry\n",
    "# 16              papaya\n",
    "# dtype: object"
   ]
  },
  {
   "cell_type": "code",
   "execution_count": 16,
   "id": "4a333314",
   "metadata": {},
   "outputs": [
    {
     "data": {
      "text/plain": [
       "kiwi                4\n",
       "mango               2\n",
       "strawberry          1\n",
       "pineapple           1\n",
       "gala apple          1\n",
       "honeycrisp apple    1\n",
       "tomato              1\n",
       "watermelon          1\n",
       "honeydew            1\n",
       "blueberry           1\n",
       "blackberry          1\n",
       "gooseberry          1\n",
       "papaya              1\n",
       "dtype: int64"
      ]
     },
     "execution_count": 16,
     "metadata": {},
     "output_type": "execute_result"
    }
   ],
   "source": [
    "# Exercise 1.1: Determine the number of elements in fruits.\n",
    "fruits_pd.value_counts()"
   ]
  },
  {
   "cell_type": "code",
   "execution_count": 18,
   "id": "ac22473d",
   "metadata": {},
   "outputs": [
    {
     "data": {
      "text/plain": [
       "RangeIndex(start=0, stop=17, step=1)"
      ]
     },
     "execution_count": 18,
     "metadata": {},
     "output_type": "execute_result"
    }
   ],
   "source": [
    "# Exercise 1.2: Output only the index from fruits\n",
    "\n",
    "fruits_pd.index\n",
    "# RangeIndex(start=0, stop=17, step=1)\n",
    "\n"
   ]
  },
  {
   "cell_type": "code",
   "execution_count": 19,
   "id": "80b10618",
   "metadata": {},
   "outputs": [
    {
     "data": {
      "text/plain": [
       "array(['kiwi', 'mango', 'strawberry', 'pineapple', 'gala apple',\n",
       "       'honeycrisp apple', 'tomato', 'watermelon', 'honeydew', 'kiwi',\n",
       "       'kiwi', 'kiwi', 'mango', 'blueberry', 'blackberry', 'gooseberry',\n",
       "       'papaya'], dtype=object)"
      ]
     },
     "execution_count": 19,
     "metadata": {},
     "output_type": "execute_result"
    }
   ],
   "source": [
    "# Exercise 1.3: Output only the values from fruits\n",
    "\n",
    "fruits_pd.values\n",
    "# array(['kiwi', 'mango', 'strawberry', 'pineapple', 'gala apple',\n",
    "#        'honeycrisp apple', 'tomato', 'watermelon', 'honeydew', 'kiwi',\n",
    "#        'kiwi', 'kiwi', 'mango', 'blueberry', 'blackberry', 'gooseberry',\n",
    "#        'papaya'], dtype=object)"
   ]
  },
  {
   "cell_type": "code",
   "execution_count": 56,
   "id": "5f06b694",
   "metadata": {},
   "outputs": [
    {
     "data": {
      "text/plain": [
       "dtype('O')"
      ]
     },
     "execution_count": 56,
     "metadata": {},
     "output_type": "execute_result"
    }
   ],
   "source": [
    "# Exercise 1.4: Confirm the data type of the values in fruits.\n",
    "\n",
    "fruits_pd.dtype\n",
    "# dtype('O')"
   ]
  },
  {
   "cell_type": "code",
   "execution_count": 24,
   "id": "64aab618",
   "metadata": {},
   "outputs": [
    {
     "data": {
      "text/plain": [
       "4     gala apple\n",
       "15    gooseberry\n",
       "dtype: object"
      ]
     },
     "execution_count": 24,
     "metadata": {},
     "output_type": "execute_result"
    }
   ],
   "source": [
    "# Exercise 1.5: Output only the first five values from fruits.\n",
    "# Output the last three values. Output two random values from fruits.\n",
    "\n",
    "#First five values:\n",
    "fruits_pd.head()\n",
    "\n",
    "# 0          kiwi\n",
    "# 1         mango\n",
    "# 2    strawberry\n",
    "# 3     pineapple\n",
    "# 4    gala apple\n",
    "# dtype: object\n",
    "\n",
    "#Last three values:\n",
    "fruits_pd.tail(3)\n",
    "\n",
    "# 14    blackberry\n",
    "# 15    gooseberry\n",
    "# 16        papaya\n",
    "# dtype: object\n",
    "\n",
    "#Two random values:\n",
    "fruits_pd.sample(2)\n",
    "\n",
    "# 4     gala apple\n",
    "# 15    gooseberry\n",
    "# dtype: object"
   ]
  },
  {
   "cell_type": "code",
   "execution_count": 58,
   "id": "6aa23ae7",
   "metadata": {},
   "outputs": [
    {
     "data": {
      "text/plain": [
       "count       17\n",
       "unique      13\n",
       "top       kiwi\n",
       "freq         4\n",
       "dtype: object"
      ]
     },
     "execution_count": 58,
     "metadata": {},
     "output_type": "execute_result"
    }
   ],
   "source": [
    "# Exercise 1.6: Run the .describe() on fruits to see what information it \n",
    "# returns when called on a Series with string values.\n",
    "\n",
    "fruits_pd.describe()\n",
    "\n",
    "# count       17\n",
    "# unique      13\n",
    "# top       kiwi\n",
    "# freq         4\n",
    "# dtype: object"
   ]
  },
  {
   "cell_type": "code",
   "execution_count": 27,
   "id": "943d240b",
   "metadata": {},
   "outputs": [
    {
     "data": {
      "text/plain": [
       "array(['kiwi', 'mango', 'strawberry', 'pineapple', 'gala apple',\n",
       "       'honeycrisp apple', 'tomato', 'watermelon', 'honeydew',\n",
       "       'blueberry', 'blackberry', 'gooseberry', 'papaya'], dtype=object)"
      ]
     },
     "execution_count": 27,
     "metadata": {},
     "output_type": "execute_result"
    }
   ],
   "source": [
    "# Exercise 1.7: Run the code necessary to produce only the unique string values from fruits.\n",
    "\n",
    "fruits_pd.unique()\n",
    "\n",
    "# array(['kiwi', 'mango', 'strawberry', 'pineapple', 'gala apple',\n",
    "#        'honeycrisp apple', 'tomato', 'watermelon', 'honeydew',\n",
    "#        'blueberry', 'blackberry', 'gooseberry', 'papaya'], dtype=object)"
   ]
  },
  {
   "cell_type": "code",
   "execution_count": 30,
   "id": "8b8df42d",
   "metadata": {},
   "outputs": [
    {
     "data": {
      "text/plain": [
       "kiwi                4\n",
       "mango               2\n",
       "strawberry          1\n",
       "pineapple           1\n",
       "gala apple          1\n",
       "honeycrisp apple    1\n",
       "tomato              1\n",
       "watermelon          1\n",
       "honeydew            1\n",
       "blueberry           1\n",
       "blackberry          1\n",
       "gooseberry          1\n",
       "papaya              1\n",
       "dtype: int64"
      ]
     },
     "execution_count": 30,
     "metadata": {},
     "output_type": "execute_result"
    }
   ],
   "source": [
    "# Exercise 1.8: Determine how many times each unique string value occurs in fruits.\n",
    "\n",
    "fruits_pd.value_counts()\n",
    "\n",
    "# kiwi                4\n",
    "# mango               2\n",
    "# strawberry          1\n",
    "# pineapple           1\n",
    "# gala apple          1\n",
    "# honeycrisp apple    1\n",
    "# tomato              1\n",
    "# watermelon          1\n",
    "# honeydew            1\n",
    "# blueberry           1\n",
    "# blackberry          1\n",
    "# gooseberry          1\n",
    "# papaya              1\n",
    "# dtype: int64"
   ]
  },
  {
   "cell_type": "code",
   "execution_count": 60,
   "id": "04d33230",
   "metadata": {},
   "outputs": [
    {
     "data": {
      "text/plain": [
       "kiwi    4\n",
       "dtype: int64"
      ]
     },
     "execution_count": 60,
     "metadata": {},
     "output_type": "execute_result"
    }
   ],
   "source": [
    "# Exercise 1.9: Determine the string value that occurs most frequently in fruits.\n",
    "\n",
    "fruits_pd.value_counts().nlargest(n=1, keep ='first')\n",
    "\n",
    "# kiwi    4\n",
    "# dtype: int64"
   ]
  },
  {
   "cell_type": "code",
   "execution_count": 61,
   "id": "3ce735b4",
   "metadata": {},
   "outputs": [
    {
     "data": {
      "text/plain": [
       "strawberry          1\n",
       "pineapple           1\n",
       "gala apple          1\n",
       "honeycrisp apple    1\n",
       "tomato              1\n",
       "watermelon          1\n",
       "honeydew            1\n",
       "blueberry           1\n",
       "blackberry          1\n",
       "gooseberry          1\n",
       "papaya              1\n",
       "dtype: int64"
      ]
     },
     "execution_count": 61,
     "metadata": {},
     "output_type": "execute_result"
    }
   ],
   "source": [
    "# Exercise 1.10: Determine the string value that occurs least frequently in fruits.\n",
    "\n",
    "fruits_pd.value_counts().nsmallest(n=1, keep ='all')\n",
    "\n",
    "# strawberry          1\n",
    "# pineapple           1\n",
    "# gala apple          1\n",
    "# honeycrisp apple    1\n",
    "# tomato              1\n",
    "# watermelon          1\n",
    "# honeydew            1\n",
    "# blueberry           1\n",
    "# blackberry          1\n",
    "# gooseberry          1\n",
    "# papaya              1\n",
    "# dtype: int64"
   ]
  },
  {
   "cell_type": "code",
   "execution_count": null,
   "id": "beeb56b6",
   "metadata": {},
   "outputs": [],
   "source": [
    "# Exercises Part II\n",
    "\n",
    "# Explore more attributes and methods while you continue to work with the fruits Series."
   ]
  },
  {
   "cell_type": "code",
   "execution_count": 70,
   "id": "55bdf7e6",
   "metadata": {},
   "outputs": [
    {
     "data": {
      "text/plain": [
       "0                 Kiwi\n",
       "1                Mango\n",
       "2           Strawberry\n",
       "3            Pineapple\n",
       "4           Gala Apple\n",
       "5     Honeycrisp Apple\n",
       "6               Tomato\n",
       "7           Watermelon\n",
       "8             Honeydew\n",
       "9                 Kiwi\n",
       "10                Kiwi\n",
       "11                Kiwi\n",
       "12               Mango\n",
       "13           Blueberry\n",
       "14          Blackberry\n",
       "15          Gooseberry\n",
       "16              Papaya\n",
       "dtype: object"
      ]
     },
     "execution_count": 70,
     "metadata": {},
     "output_type": "execute_result"
    }
   ],
   "source": [
    "# Exercise 2.1: Capitalize all the string values in fruits.\n",
    "\n",
    "fruits_pd.str.title()"
   ]
  },
  {
   "cell_type": "code",
   "execution_count": 95,
   "id": "6ce0d17d",
   "metadata": {},
   "outputs": [
    {
     "data": {
      "text/plain": [
       "14"
      ]
     },
     "execution_count": 95,
     "metadata": {},
     "output_type": "execute_result"
    }
   ],
   "source": [
    "# Exercise 2.2: Count the letter \"a\" in all the string values (use string vectorization).\n",
    "# fruits_pd.apply(lambda x: x.count('a'))\n",
    "\n",
    "sum(fruits_pd.str.count('a'))"
   ]
  },
  {
   "cell_type": "code",
   "execution_count": 213,
   "id": "449a062a",
   "metadata": {},
   "outputs": [
    {
     "data": {
      "text/plain": [
       "0     2\n",
       "1     2\n",
       "2     2\n",
       "3     4\n",
       "4     4\n",
       "5     5\n",
       "6     3\n",
       "7     4\n",
       "8     3\n",
       "9     2\n",
       "10    2\n",
       "11    2\n",
       "12    2\n",
       "13    3\n",
       "14    2\n",
       "15    4\n",
       "16    3\n",
       "dtype: int64"
      ]
     },
     "execution_count": 213,
     "metadata": {},
     "output_type": "execute_result"
    }
   ],
   "source": [
    "# Exercise 2.3: Output the number of vowels in each and every string value.\n",
    "\n",
    "#My way:\n",
    "sum(fruits_pd.str.count('a') + fruits_pd.str.count('e') + fruits_pd.str.count('i')\n",
    "   + fruits_pd.str.count('o') + fruits_pd.str.count('u'))\n",
    "\n",
    "#Madeline's ways:\n",
    "def count_vowels(string):\n",
    "    counter = 0\n",
    "    for letter in string:\n",
    "        if letter in 'aeiou':\n",
    "            counter +=1\n",
    "    return counter\n",
    "fruits_pd.apply(count_vowels)\n",
    "#OR\n",
    "fruits_pd.str.count('[aeiou]')"
   ]
  },
  {
   "cell_type": "code",
   "execution_count": 217,
   "id": "7e0bb3df",
   "metadata": {},
   "outputs": [
    {
     "data": {
      "text/plain": [
       "kiwi                            kiwi\n",
       "mango                          mango\n",
       "strawberry                strawberry\n",
       "pineapple                  pineapple\n",
       "gala apple                gala apple\n",
       "honeycrisp apple    honeycrisp apple\n",
       "tomato                        tomato\n",
       "watermelon                watermelon\n",
       "honeydew                    honeydew\n",
       "kiwi                            kiwi\n",
       "kiwi                            kiwi\n",
       "kiwi                            kiwi\n",
       "mango                          mango\n",
       "blueberry                  blueberry\n",
       "blackberry                blackberry\n",
       "gooseberry                gooseberry\n",
       "papaya                        papaya\n",
       "dtype: object"
      ]
     },
     "execution_count": 217,
     "metadata": {},
     "output_type": "execute_result"
    }
   ],
   "source": [
    "# Exercise 2.4: Write the code to get the longest string value from fruits.\n",
    "pd.Series(fruits_pd.values, index = fruits_pd.values)\n",
    "# fruits_pd.max()"
   ]
  },
  {
   "cell_type": "code",
   "execution_count": 219,
   "id": "caa34204",
   "metadata": {},
   "outputs": [
    {
     "data": {
      "text/plain": [
       "1                mango\n",
       "2           strawberry\n",
       "3            pineapple\n",
       "4           gala apple\n",
       "5     honeycrisp apple\n",
       "6               tomato\n",
       "7           watermelon\n",
       "8             honeydew\n",
       "12               mango\n",
       "13           blueberry\n",
       "14          blackberry\n",
       "15          gooseberry\n",
       "16              papaya\n",
       "dtype: object"
      ]
     },
     "execution_count": 219,
     "metadata": {},
     "output_type": "execute_result"
    }
   ],
   "source": [
    "# Exercise 2.5: Write the code to get the string values with 5 or more letters in the name.\n",
    "\n",
    "#My unnessecarily complex way:\n",
    "def cinco_y_arriba(string):\n",
    "    n = 4\n",
    "    if len(string) > n:\n",
    "        return string\n",
    "    else:\n",
    "        return 'menos de cinco :('\n",
    "\n",
    "fruits_pd.apply(cinco_y_arriba).value_counts()\n",
    "\n",
    "#Madeline's much less complicated way:\n",
    "fruits_pd[fruits_pd.apply(len) >=5]"
   ]
  },
  {
   "cell_type": "code",
   "execution_count": 221,
   "id": "a55234d5",
   "metadata": {},
   "outputs": [
    {
     "data": {
      "text/plain": [
       "6         tomato\n",
       "15    gooseberry\n",
       "dtype: object"
      ]
     },
     "execution_count": 221,
     "metadata": {},
     "output_type": "execute_result"
    }
   ],
   "source": [
    "# Exercise 2.6: Find the fruit(s) containing the letter \"o\" two or more times.\n",
    "\n",
    "# def has_an_o(string):\n",
    "#     if 'o' in string:\n",
    "#         return string\n",
    "#     else:\n",
    "#         return 'ohh nooo'\n",
    "    \n",
    "o_mask= fruits_pd.str.lower().str.count('o') >= 2\n",
    "fruits_pd[o_mask]"
   ]
  },
  {
   "cell_type": "code",
   "execution_count": 227,
   "id": "37663ca7",
   "metadata": {},
   "outputs": [
    {
     "data": {
      "text/plain": [
       "2     strawberry\n",
       "13     blueberry\n",
       "14    blackberry\n",
       "15    gooseberry\n",
       "dtype: object"
      ]
     },
     "execution_count": 227,
     "metadata": {},
     "output_type": "execute_result"
    }
   ],
   "source": [
    "# Exercise 2.7: Write the code to get only the string values containing the substring \"berry\".\n",
    "\n",
    "'berry' in 'berry'\n",
    "\n",
    "fruits_pd[fruits_pd.str.contains('berry')]\n",
    "\n",
    "#Madeline's way\n",
    "fruits_pd[fruits_pd.apply(lambda x: 'berry' in x)]"
   ]
  },
  {
   "cell_type": "code",
   "execution_count": 234,
   "id": "8de2faa2",
   "metadata": {},
   "outputs": [
    {
     "ename": "TypeError",
     "evalue": "unhashable type: 'list'",
     "output_type": "error",
     "traceback": [
      "\u001b[0;31m---------------------------------------------------------------------------\u001b[0m",
      "\u001b[0;31mTypeError\u001b[0m                                 Traceback (most recent call last)",
      "\u001b[0;32m/var/folders/3f/gcykrn_x5kj_vxldk0lkx7p00000gn/T/ipykernel_72669/40356614.py\u001b[0m in \u001b[0;36m<module>\u001b[0;34m\u001b[0m\n\u001b[0;32m----> 1\u001b[0;31m \u001b[0mfruits_pd\u001b[0m\u001b[0;34m[\u001b[0m\u001b[0mfruits_pd\u001b[0m\u001b[0;34m.\u001b[0m\u001b[0mstr\u001b[0m\u001b[0;34m.\u001b[0m\u001b[0mcontains\u001b[0m\u001b[0;34m(\u001b[0m\u001b[0;34m[\u001b[0m\u001b[0;34m(\u001b[0m\u001b[0;34m'aeiou'\u001b[0m\u001b[0;34m)\u001b[0m\u001b[0;34m]\u001b[0m\u001b[0;34m)\u001b[0m\u001b[0;34m]\u001b[0m\u001b[0;34m\u001b[0m\u001b[0;34m\u001b[0m\u001b[0m\n\u001b[0m",
      "\u001b[0;32m~/opt/anaconda3/lib/python3.9/site-packages/pandas/core/strings/accessor.py\u001b[0m in \u001b[0;36mwrapper\u001b[0;34m(self, *args, **kwargs)\u001b[0m\n\u001b[1;32m    123\u001b[0m                 )\n\u001b[1;32m    124\u001b[0m                 \u001b[0;32mraise\u001b[0m \u001b[0mTypeError\u001b[0m\u001b[0;34m(\u001b[0m\u001b[0mmsg\u001b[0m\u001b[0;34m)\u001b[0m\u001b[0;34m\u001b[0m\u001b[0;34m\u001b[0m\u001b[0m\n\u001b[0;32m--> 125\u001b[0;31m             \u001b[0;32mreturn\u001b[0m \u001b[0mfunc\u001b[0m\u001b[0;34m(\u001b[0m\u001b[0mself\u001b[0m\u001b[0;34m,\u001b[0m \u001b[0;34m*\u001b[0m\u001b[0margs\u001b[0m\u001b[0;34m,\u001b[0m \u001b[0;34m**\u001b[0m\u001b[0mkwargs\u001b[0m\u001b[0;34m)\u001b[0m\u001b[0;34m\u001b[0m\u001b[0;34m\u001b[0m\u001b[0m\n\u001b[0m\u001b[1;32m    126\u001b[0m \u001b[0;34m\u001b[0m\u001b[0m\n\u001b[1;32m    127\u001b[0m         \u001b[0mwrapper\u001b[0m\u001b[0;34m.\u001b[0m\u001b[0m__name__\u001b[0m \u001b[0;34m=\u001b[0m \u001b[0mfunc_name\u001b[0m\u001b[0;34m\u001b[0m\u001b[0;34m\u001b[0m\u001b[0m\n",
      "\u001b[0;32m~/opt/anaconda3/lib/python3.9/site-packages/pandas/core/strings/accessor.py\u001b[0m in \u001b[0;36mcontains\u001b[0;34m(self, pat, case, flags, na, regex)\u001b[0m\n\u001b[1;32m   1212\u001b[0m         \u001b[0mdtype\u001b[0m\u001b[0;34m:\u001b[0m \u001b[0mbool\u001b[0m\u001b[0;34m\u001b[0m\u001b[0;34m\u001b[0m\u001b[0m\n\u001b[1;32m   1213\u001b[0m         \"\"\"\n\u001b[0;32m-> 1214\u001b[0;31m         \u001b[0;32mif\u001b[0m \u001b[0mregex\u001b[0m \u001b[0;32mand\u001b[0m \u001b[0mre\u001b[0m\u001b[0;34m.\u001b[0m\u001b[0mcompile\u001b[0m\u001b[0;34m(\u001b[0m\u001b[0mpat\u001b[0m\u001b[0;34m)\u001b[0m\u001b[0;34m.\u001b[0m\u001b[0mgroups\u001b[0m\u001b[0;34m:\u001b[0m\u001b[0;34m\u001b[0m\u001b[0;34m\u001b[0m\u001b[0m\n\u001b[0m\u001b[1;32m   1215\u001b[0m             warnings.warn(\n\u001b[1;32m   1216\u001b[0m                 \u001b[0;34m\"This pattern is interpreted as a regular expression, and has \"\u001b[0m\u001b[0;34m\u001b[0m\u001b[0;34m\u001b[0m\u001b[0m\n",
      "\u001b[0;32m~/opt/anaconda3/lib/python3.9/re.py\u001b[0m in \u001b[0;36mcompile\u001b[0;34m(pattern, flags)\u001b[0m\n\u001b[1;32m    250\u001b[0m \u001b[0;32mdef\u001b[0m \u001b[0mcompile\u001b[0m\u001b[0;34m(\u001b[0m\u001b[0mpattern\u001b[0m\u001b[0;34m,\u001b[0m \u001b[0mflags\u001b[0m\u001b[0;34m=\u001b[0m\u001b[0;36m0\u001b[0m\u001b[0;34m)\u001b[0m\u001b[0;34m:\u001b[0m\u001b[0;34m\u001b[0m\u001b[0;34m\u001b[0m\u001b[0m\n\u001b[1;32m    251\u001b[0m     \u001b[0;34m\"Compile a regular expression pattern, returning a Pattern object.\"\u001b[0m\u001b[0;34m\u001b[0m\u001b[0;34m\u001b[0m\u001b[0m\n\u001b[0;32m--> 252\u001b[0;31m     \u001b[0;32mreturn\u001b[0m \u001b[0m_compile\u001b[0m\u001b[0;34m(\u001b[0m\u001b[0mpattern\u001b[0m\u001b[0;34m,\u001b[0m \u001b[0mflags\u001b[0m\u001b[0;34m)\u001b[0m\u001b[0;34m\u001b[0m\u001b[0;34m\u001b[0m\u001b[0m\n\u001b[0m\u001b[1;32m    253\u001b[0m \u001b[0;34m\u001b[0m\u001b[0m\n\u001b[1;32m    254\u001b[0m \u001b[0;32mdef\u001b[0m \u001b[0mpurge\u001b[0m\u001b[0;34m(\u001b[0m\u001b[0;34m)\u001b[0m\u001b[0;34m:\u001b[0m\u001b[0;34m\u001b[0m\u001b[0;34m\u001b[0m\u001b[0m\n",
      "\u001b[0;32m~/opt/anaconda3/lib/python3.9/re.py\u001b[0m in \u001b[0;36m_compile\u001b[0;34m(pattern, flags)\u001b[0m\n\u001b[1;32m    292\u001b[0m         \u001b[0mflags\u001b[0m \u001b[0;34m=\u001b[0m \u001b[0mflags\u001b[0m\u001b[0;34m.\u001b[0m\u001b[0mvalue\u001b[0m\u001b[0;34m\u001b[0m\u001b[0;34m\u001b[0m\u001b[0m\n\u001b[1;32m    293\u001b[0m     \u001b[0;32mtry\u001b[0m\u001b[0;34m:\u001b[0m\u001b[0;34m\u001b[0m\u001b[0;34m\u001b[0m\u001b[0m\n\u001b[0;32m--> 294\u001b[0;31m         \u001b[0;32mreturn\u001b[0m \u001b[0m_cache\u001b[0m\u001b[0;34m[\u001b[0m\u001b[0mtype\u001b[0m\u001b[0;34m(\u001b[0m\u001b[0mpattern\u001b[0m\u001b[0;34m)\u001b[0m\u001b[0;34m,\u001b[0m \u001b[0mpattern\u001b[0m\u001b[0;34m,\u001b[0m \u001b[0mflags\u001b[0m\u001b[0;34m]\u001b[0m\u001b[0;34m\u001b[0m\u001b[0;34m\u001b[0m\u001b[0m\n\u001b[0m\u001b[1;32m    295\u001b[0m     \u001b[0;32mexcept\u001b[0m \u001b[0mKeyError\u001b[0m\u001b[0;34m:\u001b[0m\u001b[0;34m\u001b[0m\u001b[0;34m\u001b[0m\u001b[0m\n\u001b[1;32m    296\u001b[0m         \u001b[0;32mpass\u001b[0m\u001b[0;34m\u001b[0m\u001b[0;34m\u001b[0m\u001b[0m\n",
      "\u001b[0;31mTypeError\u001b[0m: unhashable type: 'list'"
     ]
    }
   ],
   "source": [
    "fruits_pd[fruits_pd.str.contains([('aeiou')])]"
   ]
  }
 ],
 "metadata": {
  "kernelspec": {
   "display_name": "Python 3 (ipykernel)",
   "language": "python",
   "name": "python3"
  },
  "language_info": {
   "codemirror_mode": {
    "name": "ipython",
    "version": 3
   },
   "file_extension": ".py",
   "mimetype": "text/x-python",
   "name": "python",
   "nbconvert_exporter": "python",
   "pygments_lexer": "ipython3",
   "version": "3.9.13"
  }
 },
 "nbformat": 4,
 "nbformat_minor": 5
}
