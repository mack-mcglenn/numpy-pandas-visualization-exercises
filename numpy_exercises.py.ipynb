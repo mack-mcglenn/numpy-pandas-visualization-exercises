{
 "cells": [
  {
   "cell_type": "code",
   "execution_count": 4,
   "id": "92ee7f04",
   "metadata": {},
   "outputs": [],
   "source": [
    "import numpy as np"
   ]
  },
  {
   "cell_type": "code",
   "execution_count": 271,
   "id": "4419c1e9",
   "metadata": {},
   "outputs": [
    {
     "data": {
      "text/plain": [
       "array([ 4, 10, 12, 23, -2, -1,  0,  0,  0, -6,  3, -7])"
      ]
     },
     "execution_count": 271,
     "metadata": {},
     "output_type": "execute_result"
    }
   ],
   "source": [
    "a = np.array([4, 10, 12, 23, -2, -1, 0, 0, 0, -6, 3, -7])\n",
    "\n",
    "a"
   ]
  },
  {
   "cell_type": "code",
   "execution_count": 264,
   "id": "7d2ab240",
   "metadata": {},
   "outputs": [
    {
     "data": {
      "text/plain": [
       "4"
      ]
     },
     "execution_count": 264,
     "metadata": {},
     "output_type": "execute_result"
    }
   ],
   "source": [
    "# 1. How many negative numbers are there?\n",
    "\n",
    "a < 0\n",
    "mask =a < 0\n",
    "a[mask]\n",
    "# array([False, False, False, False, False, False, False, False, False, False])\n",
    "\n",
    "count_neg_numbers = mask.sum()\n",
    "count_neg_numbers\n"
   ]
  },
  {
   "cell_type": "code",
   "execution_count": 266,
   "id": "d3cc1efd",
   "metadata": {},
   "outputs": [
    {
     "data": {
      "text/plain": [
       "5"
      ]
     },
     "execution_count": 266,
     "metadata": {},
     "output_type": "execute_result"
    }
   ],
   "source": [
    "# 2. How many positive numbers are there?\n",
    "# A: 5, excluding all zeroes\n",
    "\n",
    "a = np.array([4, 10, 12, 23, -2, -1, 0, 0, 0, -6, 3, -7])\n",
    "b = a > 0\n",
    "b\n",
    "# array([ True,  True,  True,  True, False, False, False, False, False, False,  True, False])\n",
    "\n",
    "count_pos_numbers = sum(b)\n",
    "count_pos_numbers"
   ]
  },
  {
   "cell_type": "code",
   "execution_count": 105,
   "id": "a94c0527",
   "metadata": {},
   "outputs": [
    {
     "data": {
      "text/plain": [
       "3"
      ]
     },
     "execution_count": 105,
     "metadata": {},
     "output_type": "execute_result"
    }
   ],
   "source": [
    "# 3. How many even positive numbers are there?\n",
    "    #A: 3, excluding all zeroes\n",
    "    \n",
    "a = np.array([4, 10, 12, 23, -2, -1, 0, 0, 0, -6, 3, -7])\n",
    "is_even = a % 2 == 0\n",
    "is_even\n",
    "# array([ True,  True,  True, False,  True, False,  True,  True,  True,\n",
    "#True, False, False])\n",
    "\n",
    "is_pos_even = b & is_even\n",
    "is_pos_even\n",
    "#array([ True,  True,  True, False, False, False, False, False, False,\n",
    "#False, False, False])\n",
    "\n",
    "a[is_pos_even]\n",
    "len(a[is_pos_even])\n",
    "#3"
   ]
  },
  {
   "cell_type": "code",
   "execution_count": 102,
   "id": "ddbb10de",
   "metadata": {},
   "outputs": [
    {
     "data": {
      "text/plain": [
       "10"
      ]
     },
     "execution_count": 102,
     "metadata": {},
     "output_type": "execute_result"
    }
   ],
   "source": [
    "# 4. If you were to add 3 to each data point, how many positive numbers would there be?\n",
    "    # A: 3\n",
    "c = a + 3\n",
    "c\n",
    "#array([ 7, 13, 15, 26,  1,  2,  3,  3,  3, -3,  6, -4])\n",
    "\n",
    "d = c > 0\n",
    "d\n",
    "# array([ True,  True,  True,  True,  True,  True,  True,  True,  True,\n",
    "# False, True, False])\n",
    "\n",
    "a[d]   \n",
    "#array([ 4, 10, 12, 23, -2, -1,  0,  0,  0,  3])\n",
    "len(a[d])\n",
    "#10"
   ]
  },
  {
   "cell_type": "code",
   "execution_count": 110,
   "id": "7ca28982",
   "metadata": {},
   "outputs": [
    {
     "data": {
      "text/plain": [
       "(74.0, 144.0243035046516)"
      ]
     },
     "execution_count": 110,
     "metadata": {},
     "output_type": "execute_result"
    }
   ],
   "source": [
    "# 5. If you squared each number, what would the new mean and standard deviation be?\n",
    "    # A: mean = 74.0, std dev = 144.0243\n",
    "    \n",
    "#Step 1: Square each number in the array\n",
    "a_squared = a ** 2\n",
    "a_squared\n",
    "#array([ 16, 100, 144, 529,   4,   1,   0,   0,   0,  36,   9,  49])\n",
    "\n",
    "#Step 2: Find new mean and standard deviation\n",
    "np.mean(a_squared), np.std(a_squared)\n",
    "#(74.0, 144.0243035046516)\n"
   ]
  },
  {
   "cell_type": "code",
   "execution_count": 113,
   "id": "e9ecd83e",
   "metadata": {},
   "outputs": [
    {
     "data": {
      "text/plain": [
       "array([  1.,   7.,   9.,  20.,  -5.,  -4.,  -3.,  -3.,  -3.,  -9.,   0.,\n",
       "       -10.])"
      ]
     },
     "execution_count": 113,
     "metadata": {},
     "output_type": "execute_result"
    }
   ],
   "source": [
    "# 6. A common statistical operation on a dataset is centering. This means to adjust the data such that the mean of the data is 0. This is done by subtracting the mean \n",
    "#from each data point. Center the data set. See this link for more on centering.\n",
    "    # A: see below\n",
    "center = a - np.mean(a)\n",
    "center\n",
    "# array([  1.,   7.,   9.,  20.,  -5.,  -4.,  -3.,  -3.,  -3.,  -9.,   0.,\n",
    " #      -10.])"
   ]
  },
  {
   "cell_type": "code",
   "execution_count": 267,
   "id": "6eb2cf95",
   "metadata": {},
   "outputs": [
    {
     "data": {
      "text/plain": [
       "array([ 0.12403473,  0.86824314,  1.11631261,  2.48069469, -0.62017367,\n",
       "       -0.49613894, -0.3721042 , -0.3721042 , -0.3721042 , -1.11631261,\n",
       "        0.        , -1.24034735])"
      ]
     },
     "execution_count": 267,
     "metadata": {},
     "output_type": "execute_result"
    }
   ],
   "source": [
    "# 7. Calculate the z-score for each data point.\n",
    "    # A: see below\n",
    "z_score = (a - np.mean(a))/np.std(a)\n",
    "z_score"
   ]
  },
  {
   "cell_type": "code",
   "execution_count": null,
   "id": "cf844add",
   "metadata": {},
   "outputs": [],
   "source": [
    "# 8. Copy the setup and exercise directions from More Numpy Practice into your numpy_exercises.py and add your solutions.\n"
   ]
  },
  {
   "cell_type": "code",
   "execution_count": null,
   "id": "2c9ac113",
   "metadata": {},
   "outputs": [],
   "source": [
    "import numpy as np\n",
    "# Life w/o numpy to life with numpy\n",
    "\n",
    "## Setup 1\n",
    "a = [1, 2, 3, 4, 5, 6, 7, 8, 9, 10]"
   ]
  },
  {
   "cell_type": "code",
   "execution_count": 274,
   "id": "0966a547",
   "metadata": {},
   "outputs": [
    {
     "data": {
      "text/plain": [
       "55"
      ]
     },
     "execution_count": 274,
     "metadata": {},
     "output_type": "execute_result"
    }
   ],
   "source": [
    "a = [1, 2, 3, 4, 5, 6, 7, 8, 9, 10]\n",
    "# Exercise 8.1.1 - Make a variable called sum_of_a to hold the sum of all the numbers in\n",
    "#above list\n",
    "    # A: 55\n",
    "sum_of_a = np.sum(a)\n",
    "sum_of_a"
   ]
  },
  {
   "cell_type": "code",
   "execution_count": 118,
   "id": "286207e5",
   "metadata": {},
   "outputs": [
    {
     "data": {
      "text/plain": [
       "1"
      ]
     },
     "execution_count": 118,
     "metadata": {},
     "output_type": "execute_result"
    }
   ],
   "source": [
    "# Exercise 8.1.2 - Make a variable named min_of_a to hold the minimum of all the numbers in\n",
    "#the above list\n",
    "    # A: 1\n",
    "min_of_a = np.min(a)\n",
    "min_of_a"
   ]
  },
  {
   "cell_type": "code",
   "execution_count": 119,
   "id": "a4b91692",
   "metadata": {},
   "outputs": [
    {
     "data": {
      "text/plain": [
       "10"
      ]
     },
     "execution_count": 119,
     "metadata": {},
     "output_type": "execute_result"
    }
   ],
   "source": [
    "# Exercise 8.1.3 - Make a variable named max_of_a to hold the max number of all the numbers \n",
    "#in the above list\n",
    "    # A: 10\n",
    "max_of_a = np.max(a)\n",
    "max_of_a"
   ]
  },
  {
   "cell_type": "code",
   "execution_count": 275,
   "id": "a13f3038",
   "metadata": {},
   "outputs": [
    {
     "data": {
      "text/plain": [
       "5.5"
      ]
     },
     "execution_count": 275,
     "metadata": {},
     "output_type": "execute_result"
    }
   ],
   "source": [
    "# Exercise 8.1.4 - Make a variable named mean_of_a to hold the average of all the numbers\n",
    "#in the above list\n",
    "    # A: 5.5\n",
    "    \n",
    "mean_of_a = np.mean(a)\n",
    "mean_of_a"
   ]
  },
  {
   "cell_type": "code",
   "execution_count": 276,
   "id": "d86f3367",
   "metadata": {},
   "outputs": [
    {
     "data": {
      "text/plain": [
       "3628800"
      ]
     },
     "execution_count": 276,
     "metadata": {},
     "output_type": "execute_result"
    }
   ],
   "source": [
    "# Exercise 8.1.5 - Make a variable named product_of_a to hold the product of multiplying all \n",
    "#the numbers in the above list together\n",
    "    # A: 3628800\n",
    "\n",
    "product_of_a = np.product(a)\n",
    "product_of_a"
   ]
  },
  {
   "cell_type": "code",
   "execution_count": 126,
   "id": "60ca0f56",
   "metadata": {},
   "outputs": [
    {
     "data": {
      "text/plain": [
       "array([  1,   4,   9,  16,  25,  36,  49,  64,  81, 100])"
      ]
     },
     "execution_count": 126,
     "metadata": {},
     "output_type": "execute_result"
    }
   ],
   "source": [
    "# Exercise 8.1.6 - Make a variable named squares_of_a. It should hold each number \n",
    "#in a squared like [1, 4, 9, 16, 25...]\n",
    "    # A: array([  1,   4,   9,  16,  25,  36,  49,  64,  81, 100])\n",
    "squares_of_a = np.square(a)\n",
    "squares_of_a "
   ]
  },
  {
   "cell_type": "code",
   "execution_count": 131,
   "id": "dfab2aaf",
   "metadata": {},
   "outputs": [
    {
     "data": {
      "text/plain": [
       "array([1, 3, 5, 7, 9])"
      ]
     },
     "execution_count": 131,
     "metadata": {},
     "output_type": "execute_result"
    }
   ],
   "source": [
    "# Exercise 8.1.7 - Make a variable named odds_in_a. It should hold only the odd numbers\n",
    "    # A: array([1, 3, 5, 7, 9])\n",
    "\n",
    "a = np.array([1, 2, 3, 4, 5, 6, 7, 8, 9, 10])\n",
    "odds_in_a = (a[a % 2 == 1])\n",
    "odds_in_a"
   ]
  },
  {
   "cell_type": "code",
   "execution_count": 132,
   "id": "60dd0df6",
   "metadata": {},
   "outputs": [
    {
     "data": {
      "text/plain": [
       "array([ 2,  4,  6,  8, 10])"
      ]
     },
     "execution_count": 132,
     "metadata": {},
     "output_type": "execute_result"
    }
   ],
   "source": [
    "# Exercise 8.1.8 - Make a variable named evens_in_a. It should hold only the evens.\n",
    "    # A: array([ 2,  4,  6,  8, 10])\n",
    "    \n",
    "evens_in_a = (a[a % 2 == 0])\n",
    "evens_in_a"
   ]
  },
  {
   "cell_type": "code",
   "execution_count": 279,
   "id": "3293af1e",
   "metadata": {},
   "outputs": [
    {
     "data": {
      "text/plain": [
       "array([[3, 4, 5],\n",
       "       [6, 7, 8]])"
      ]
     },
     "execution_count": 279,
     "metadata": {},
     "output_type": "execute_result"
    }
   ],
   "source": [
    "# What about life in two dimensions? A list of lists is matrix, a table....\n",
    "# Setup 2: Consider what it would take to find the sum, min, max, average, \n",
    "#sum, product, and list of squares for this list of two lists.\n",
    "\n",
    "b = np.array([\n",
    "    [3, 4, 5],\n",
    "    [6, 7, 8]\n",
    "])\n",
    "b"
   ]
  },
  {
   "cell_type": "code",
   "execution_count": 141,
   "id": "82b0286c",
   "metadata": {},
   "outputs": [
    {
     "data": {
      "text/plain": [
       "33"
      ]
     },
     "execution_count": 141,
     "metadata": {},
     "output_type": "execute_result"
    }
   ],
   "source": [
    "# Exercise 8.2.1 - refactor the following to use numpy. Use sum_of_b as the variable.\n",
    "# **Hint, you'll first need to make sure that the \"b\" variable is a numpy array**\n",
    "\n",
    "sum_of_b = np.sum(b)\n",
    "sum_of_b\n"
   ]
  },
  {
   "cell_type": "code",
   "execution_count": 143,
   "id": "1acb924a",
   "metadata": {},
   "outputs": [
    {
     "data": {
      "text/plain": [
       "3"
      ]
     },
     "execution_count": 143,
     "metadata": {},
     "output_type": "execute_result"
    }
   ],
   "source": [
    "# Exercise 8.2.2 - refactor the following to use numpy. \n",
    "\n",
    "#Original:\n",
    "min_of_b = min(b[0]) if min(b[0]) <= min(b[1]) else min(b[1])  \n",
    "\n",
    "#My solution with numpy:\n",
    "min_of_b = np.min(b)\n",
    "min_of_b"
   ]
  },
  {
   "cell_type": "code",
   "execution_count": 144,
   "id": "2c8ef3fc",
   "metadata": {},
   "outputs": [
    {
     "data": {
      "text/plain": [
       "8"
      ]
     },
     "execution_count": 144,
     "metadata": {},
     "output_type": "execute_result"
    }
   ],
   "source": [
    "# Exercise 8.2.3 - refactor the following maximum calculation to find the answer with numpy.\n",
    "\n",
    "#Original:\n",
    "max_of_b = max(b[0]) if max(b[0]) >= max(b[1]) else max(b[1])\n",
    "\n",
    "#My solution with numpy:\n",
    "max_of_b = np.max(b)\n",
    "max_of_b"
   ]
  },
  {
   "cell_type": "code",
   "execution_count": 146,
   "id": "4fd07daf",
   "metadata": {},
   "outputs": [
    {
     "data": {
      "text/plain": [
       "5.5"
      ]
     },
     "execution_count": 146,
     "metadata": {},
     "output_type": "execute_result"
    }
   ],
   "source": [
    "# Exercise 8.2.4 - refactor the following using numpy to find the mean of b\n",
    "\n",
    "#Original:\n",
    "mean_of_b = (sum(b[0]) + sum(b[1])) / (len(b[0]) + len(b[1]))\n",
    "\n",
    "#My refactor with numpy\n",
    "mean_of_b = np.mean(b)\n",
    "mean_of_b"
   ]
  },
  {
   "cell_type": "code",
   "execution_count": 147,
   "id": "8d5582ab",
   "metadata": {},
   "outputs": [
    {
     "data": {
      "text/plain": [
       "20160"
      ]
     },
     "execution_count": 147,
     "metadata": {},
     "output_type": "execute_result"
    }
   ],
   "source": [
    "# Exercise 8.2.5 - refactor the following to use numpy for calculating the product of all numbers multiplied together.\n",
    "\n",
    "#Original:\n",
    "product_of_b = 1\n",
    "for row in b:\n",
    "    for number in row:\n",
    "        product_of_b *= number\n",
    "        \n",
    "#My refactor with numpy:\n",
    "product_of_b = np.product(b)\n",
    "product_of_b"
   ]
  },
  {
   "cell_type": "code",
   "execution_count": 149,
   "id": "35f6a199",
   "metadata": {},
   "outputs": [
    {
     "data": {
      "text/plain": [
       "array([[ 9, 16, 25],\n",
       "       [36, 49, 64]])"
      ]
     },
     "execution_count": 149,
     "metadata": {},
     "output_type": "execute_result"
    }
   ],
   "source": [
    "# Exercise 8.2.6 - refactor the following to use numpy to find the list of squares \n",
    "\n",
    "#Original:\n",
    "squares_of_b = []\n",
    "for row in b:\n",
    "    for number in row:\n",
    "        squares_of_b.append(number**2)\n",
    "        \n",
    "#My refactor with numpy:\n",
    "squares_of_b = np.square(b)\n",
    "squares_of_b"
   ]
  },
  {
   "cell_type": "code",
   "execution_count": 151,
   "id": "e113f094",
   "metadata": {},
   "outputs": [
    {
     "data": {
      "text/plain": [
       "array([3, 5, 7])"
      ]
     },
     "execution_count": 151,
     "metadata": {},
     "output_type": "execute_result"
    }
   ],
   "source": [
    "# Exercise 8.2.7 - refactor using numpy to determine the odds_in_b\n",
    "\n",
    "#Original:\n",
    "odds_in_b = []\n",
    "for row in b:\n",
    "    for number in row:\n",
    "        if(number % 2 != 0):\n",
    "            odds_in_b.append(number)\n",
    "            \n",
    "#My refactor with numpy:\n",
    "odds_in_b = (b[b % 2 == 1])\n",
    "odds_in_b"
   ]
  },
  {
   "cell_type": "code",
   "execution_count": 153,
   "id": "70d61b73",
   "metadata": {},
   "outputs": [
    {
     "data": {
      "text/plain": [
       "array([4, 6, 8])"
      ]
     },
     "execution_count": 153,
     "metadata": {},
     "output_type": "execute_result"
    }
   ],
   "source": [
    "# Exercise 8.2.8 - refactor the following to use numpy to filter only the even numbers\n",
    "\n",
    "#Original:\n",
    "evens_in_b = []\n",
    "for row in b:\n",
    "    for number in row:\n",
    "        if(number % 2 == 0):\n",
    "            evens_in_b.append(number)\n",
    "            \n",
    "#My refactor with numpy:\n",
    "evens_in_b = (b[b % 2 == 0])\n",
    "evens_in_b"
   ]
  },
  {
   "cell_type": "code",
   "execution_count": 280,
   "id": "0faf9291",
   "metadata": {},
   "outputs": [
    {
     "data": {
      "text/plain": [
       "(2, 3)"
      ]
     },
     "execution_count": 280,
     "metadata": {},
     "output_type": "execute_result"
    }
   ],
   "source": [
    "# Exercise 8.2.9 - print out the shape of the array b.\n",
    "b.shape\n"
   ]
  },
  {
   "cell_type": "code",
   "execution_count": 155,
   "id": "2f2ee501",
   "metadata": {},
   "outputs": [
    {
     "data": {
      "text/plain": [
       "array([[3, 6],\n",
       "       [4, 7],\n",
       "       [5, 8]])"
      ]
     },
     "execution_count": 155,
     "metadata": {},
     "output_type": "execute_result"
    }
   ],
   "source": [
    "# Exercise 8.2.10 - transpose the array b.\n",
    "np.transpose(b)"
   ]
  },
  {
   "cell_type": "code",
   "execution_count": 181,
   "id": "3165b162",
   "metadata": {},
   "outputs": [
    {
     "data": {
      "text/plain": [
       "[3, 4, 5, 6, 7, 8]"
      ]
     },
     "execution_count": 181,
     "metadata": {},
     "output_type": "execute_result"
    }
   ],
   "source": [
    "# Exercise 8.2.11 - reshape the array b to be a single list of 6 numbers. (1 x 6)\n",
    "b_list =  b.tolist()\n",
    "b_list\n",
    " \n",
    "new_b_list = []\n",
    "for x in list(b_list):\n",
    "    new_b_list.extend(x)\n",
    "    \n",
    "new_b_list\n"
   ]
  },
  {
   "cell_type": "code",
   "execution_count": 281,
   "id": "a906b330",
   "metadata": {},
   "outputs": [
    {
     "data": {
      "text/plain": [
       "array([[3],\n",
       "       [4],\n",
       "       [5],\n",
       "       [6],\n",
       "       [7],\n",
       "       [8]])"
      ]
     },
     "execution_count": 281,
     "metadata": {},
     "output_type": "execute_result"
    }
   ],
   "source": [
    "# Exercise 8.2.12 - reshape the array b to be a list of 6 lists,\n",
    "#each containing only 1 number (6 x 1)\n",
    "b.reshape(6,1)"
   ]
  },
  {
   "cell_type": "code",
   "execution_count": 283,
   "id": "72ed2f0d",
   "metadata": {},
   "outputs": [],
   "source": [
    "#Setup 3\n",
    "# HINT, you'll first need to make sure that the \"c\" variable is a numpy array prior to using numpy array methods.\n",
    "# Exercise 1 - Find the min, max, sum, and product of c\n",
    "c = [\n",
    "    [1, 2, 3],\n",
    "    [4, 5, 6],\n",
    "    [7, 8, 9]\n",
    "]"
   ]
  },
  {
   "cell_type": "code",
   "execution_count": 285,
   "id": "e5e0e8ab",
   "metadata": {},
   "outputs": [],
   "source": [
    "c = np.array(c)"
   ]
  },
  {
   "cell_type": "code",
   "execution_count": 286,
   "id": "6d50ff30",
   "metadata": {},
   "outputs": [
    {
     "data": {
      "text/plain": [
       "362880"
      ]
     },
     "execution_count": 286,
     "metadata": {},
     "output_type": "execute_result"
    }
   ],
   "source": [
    "# Exercise 8.3.1 - Find the min, max, sum, and product of c.\n",
    "sum_of_c = np.sum(c)\n",
    "sum_of_c\n",
    "# A: 72\n",
    "\n",
    "min_of_c = np.min(c)\n",
    "min_of_c\n",
    "# A: -4\n",
    "\n",
    "max_of_c = np.max(c)\n",
    "max_of_c\n",
    "# A: 26\n",
    "\n",
    "product_of_c = np.product(c)\n",
    "product_of_c\n",
    "# A: 137985120"
   ]
  },
  {
   "cell_type": "code",
   "execution_count": 287,
   "id": "d9d1bfb5",
   "metadata": {},
   "outputs": [
    {
     "data": {
      "text/plain": [
       "2.581988897471611"
      ]
     },
     "execution_count": 287,
     "metadata": {},
     "output_type": "execute_result"
    }
   ],
   "source": [
    "# Exercise 8.3.2 - Determine the standard deviation of c.\n",
    "    # A: 8.06225774829855\n",
    "\n",
    "stddev_of_c = np.std(c)\n",
    "stddev_of_c"
   ]
  },
  {
   "cell_type": "code",
   "execution_count": 288,
   "id": "23d9f15a",
   "metadata": {},
   "outputs": [
    {
     "data": {
      "text/plain": [
       "8"
      ]
     },
     "execution_count": 288,
     "metadata": {},
     "output_type": "execute_result"
    }
   ],
   "source": [
    "# Exercise 8.3.3 - Determine the variance of c.\n",
    "# A: 30\n",
    "\n",
    "range_of_c = max_of_c - min_of_c\n",
    "range_of_c"
   ]
  },
  {
   "cell_type": "code",
   "execution_count": 289,
   "id": "e84b9ca4",
   "metadata": {},
   "outputs": [
    {
     "name": "stdout",
     "output_type": "stream",
     "text": [
      "(3, 3)\n"
     ]
    }
   ],
   "source": [
    "# Exercise 8.3.4 - Print out the shape of the array c\n",
    "c_arr = np.array(c)\n",
    "print(np.shape(c_arr))"
   ]
  },
  {
   "cell_type": "code",
   "execution_count": 290,
   "id": "8ca7c803",
   "metadata": {},
   "outputs": [
    {
     "data": {
      "text/plain": [
       "array([[1, 4, 7],\n",
       "       [2, 5, 8],\n",
       "       [3, 6, 9]])"
      ]
     },
     "execution_count": 290,
     "metadata": {},
     "output_type": "execute_result"
    }
   ],
   "source": [
    "import numpy as np\n",
    "\n",
    "# Exercise 8.3.5 - Transpose c and print out transposed result.\n",
    "#print(np.transpose(c_arr))\n",
    "c_arr.T"
   ]
  },
  {
   "cell_type": "code",
   "execution_count": 291,
   "id": "81c555d8",
   "metadata": {},
   "outputs": [
    {
     "data": {
      "text/plain": [
       "array([[ 30,  36,  42],\n",
       "       [ 66,  81,  96],\n",
       "       [102, 126, 150]])"
      ]
     },
     "execution_count": 291,
     "metadata": {},
     "output_type": "execute_result"
    }
   ],
   "source": [
    "# Exercise 8.3.6 - Get the dot product of the array c with c. \n",
    "c_dot = np.dot(c,c)\n",
    "c_dot"
   ]
  },
  {
   "cell_type": "code",
   "execution_count": 294,
   "id": "03ea846f",
   "metadata": {},
   "outputs": [
    {
     "data": {
      "text/plain": [
       "261"
      ]
     },
     "execution_count": 294,
     "metadata": {},
     "output_type": "execute_result"
    }
   ],
   "source": [
    "# Exercise 8.3.7 - Write the code necessary to sum up the result of c times c transposed. \n",
    "#Answer should be 261\n",
    "\n",
    "(c.T * c).sum()"
   ]
  },
  {
   "cell_type": "code",
   "execution_count": 296,
   "id": "eb2bfbb9",
   "metadata": {},
   "outputs": [
    {
     "data": {
      "text/plain": [
       "131681894400"
      ]
     },
     "execution_count": 296,
     "metadata": {},
     "output_type": "execute_result"
    }
   ],
   "source": [
    "# Exercise 8.3.8 - Write the code necessary to determine the product of c times c transposed. \n",
    "#Answer should be 131681894400.\n",
    "\n",
    "(c.T *c).prod()\n"
   ]
  },
  {
   "cell_type": "code",
   "execution_count": 305,
   "id": "34c685c7",
   "metadata": {},
   "outputs": [],
   "source": [
    "d = [\n",
    "    [90, 30, 45, 0, 120, 180],\n",
    "    [45, -90, -30, 270, 90, 0],\n",
    "    [60, 45, -45, 90, -45, 180]\n",
    "]"
   ]
  },
  {
   "cell_type": "code",
   "execution_count": 306,
   "id": "40ac51d9",
   "metadata": {},
   "outputs": [
    {
     "data": {
      "text/plain": [
       "array([[ 0.89399666, -0.98803162,  0.85090352,  0.        ,  0.58061118,\n",
       "        -0.80115264],\n",
       "       [ 0.85090352, -0.89399666,  0.98803162, -0.17604595,  0.89399666,\n",
       "         0.        ],\n",
       "       [-0.30481062,  0.85090352, -0.85090352,  0.89399666, -0.85090352,\n",
       "        -0.80115264]])"
      ]
     },
     "execution_count": 306,
     "metadata": {},
     "output_type": "execute_result"
    }
   ],
   "source": [
    "# Exercise 8.4.1 - Find the sine of all the numbers in d\n",
    "\n",
    "d = np.array(d)\n",
    "d\n",
    "np.sin(d)"
   ]
  },
  {
   "cell_type": "code",
   "execution_count": 307,
   "id": "f7ce7bbb",
   "metadata": {},
   "outputs": [
    {
     "data": {
      "text/plain": [
       "array([[-0.44807362,  0.15425145,  0.52532199,  1.        ,  0.81418097,\n",
       "        -0.59846007],\n",
       "       [ 0.52532199, -0.44807362,  0.15425145,  0.98438195, -0.44807362,\n",
       "         1.        ],\n",
       "       [-0.95241298,  0.52532199,  0.52532199, -0.44807362,  0.52532199,\n",
       "        -0.59846007]])"
      ]
     },
     "execution_count": 307,
     "metadata": {},
     "output_type": "execute_result"
    }
   ],
   "source": [
    "# Exercise 8.4.2 - Find the cosine of all the numbers in d\n",
    "\n",
    "np.cos(d)"
   ]
  },
  {
   "cell_type": "code",
   "execution_count": 308,
   "id": "ec6f8c3e",
   "metadata": {},
   "outputs": [
    {
     "data": {
      "text/plain": [
       "array([[-1.99520041, -6.4053312 ,  1.61977519,  0.        ,  0.71312301,\n",
       "         1.33869021],\n",
       "       [ 1.61977519,  1.99520041,  6.4053312 , -0.17883906, -1.99520041,\n",
       "         0.        ],\n",
       "       [ 0.32004039,  1.61977519, -1.61977519, -1.99520041, -1.61977519,\n",
       "         1.33869021]])"
      ]
     },
     "execution_count": 308,
     "metadata": {},
     "output_type": "execute_result"
    }
   ],
   "source": [
    "# Exercise 8.4.3 - Find the tangent of all the numbers in d\n",
    "\n",
    "np.tan(d)"
   ]
  },
  {
   "cell_type": "code",
   "execution_count": 309,
   "id": "29da9061",
   "metadata": {},
   "outputs": [
    {
     "data": {
      "text/plain": [
       "array([-90, -30, -45, -45])"
      ]
     },
     "execution_count": 309,
     "metadata": {},
     "output_type": "execute_result"
    }
   ],
   "source": [
    "# Exercise 8.4.4 - Find all the negative numbers in d\n",
    "\n",
    "d [d < 0]"
   ]
  },
  {
   "cell_type": "code",
   "execution_count": 310,
   "id": "1bcfdf26",
   "metadata": {},
   "outputs": [
    {
     "data": {
      "text/plain": [
       "array([ 90,  30,  45, 120, 180,  45, 270,  90,  60,  45,  90, 180])"
      ]
     },
     "execution_count": 310,
     "metadata": {},
     "output_type": "execute_result"
    }
   ],
   "source": [
    "# Exercise 8.4.5 - Find all the positive numbers in d\n",
    "\n",
    "\n",
    "\n",
    "d [d > 0]"
   ]
  },
  {
   "cell_type": "code",
   "execution_count": 311,
   "id": "bcdad796",
   "metadata": {},
   "outputs": [
    {
     "data": {
      "text/plain": [
       "array([-90, -45, -30,   0,  30,  45,  60,  90, 120, 180, 270])"
      ]
     },
     "execution_count": 311,
     "metadata": {},
     "output_type": "execute_result"
    }
   ],
   "source": [
    "# Exercise 8.4.6 - Return an array of only the unique numbers in d.\n",
    "\n",
    "np.unique(d)"
   ]
  },
  {
   "cell_type": "code",
   "execution_count": 312,
   "id": "7ca7e4a6",
   "metadata": {},
   "outputs": [
    {
     "data": {
      "text/plain": [
       "11"
      ]
     },
     "execution_count": 312,
     "metadata": {},
     "output_type": "execute_result"
    }
   ],
   "source": [
    "# Exercise 8.4.7 - Determine how many unique numbers there are in d.\n",
    "\n",
    "len(np.unique(d))"
   ]
  },
  {
   "cell_type": "code",
   "execution_count": 318,
   "id": "a7181060",
   "metadata": {},
   "outputs": [
    {
     "data": {
      "text/plain": [
       "(3, 6)"
      ]
     },
     "execution_count": 318,
     "metadata": {},
     "output_type": "execute_result"
    }
   ],
   "source": [
    "# Exercise 8.4.8 - Print out the shape of d.\n",
    "d\n",
    "#array([[ 90,  30,  45,   0, 120, 180],\n",
    "       #[ 45, -90, -30, 270,  90,   0],\n",
    "       #[ 60,  45, -45,  90, -45, 180]])\n",
    "d.shape\n",
    "#(3, 6)"
   ]
  },
  {
   "cell_type": "code",
   "execution_count": 320,
   "id": "90eef024",
   "metadata": {},
   "outputs": [
    {
     "data": {
      "text/plain": [
       "(6, 3)"
      ]
     },
     "execution_count": 320,
     "metadata": {},
     "output_type": "execute_result"
    }
   ],
   "source": [
    "# Exercise 8.4.9 - Transpose and then print out the shape of d.\n",
    "\n",
    "d.T\n",
    "# array([[ 90,  45,  60],\n",
    "#        [ 30, -90,  45],\n",
    "#        [ 45, -30, -45],\n",
    "#        [  0, 270,  90],\n",
    "#        [120,  90, -45],\n",
    "#        [180,   0, 180]])\n",
    "\n",
    "d.T.shape\n",
    "#(6, 3)"
   ]
  },
  {
   "cell_type": "code",
   "execution_count": 316,
   "id": "970c3d49",
   "metadata": {},
   "outputs": [
    {
     "data": {
      "text/plain": [
       "array([[ 90,  30],\n",
       "       [ 45,   0],\n",
       "       [120, 180],\n",
       "       [ 45, -90],\n",
       "       [-30, 270],\n",
       "       [ 90,   0],\n",
       "       [ 60,  45],\n",
       "       [-45,  90],\n",
       "       [-45, 180]])"
      ]
     },
     "execution_count": 316,
     "metadata": {},
     "output_type": "execute_result"
    }
   ],
   "source": [
    "# Exercise 8.4.10 - Reshape d into an array of 9 x 2\n",
    "\n",
    "d.reshape(9,2)"
   ]
  }
 ],
 "metadata": {
  "kernelspec": {
   "display_name": "Python 3 (ipykernel)",
   "language": "python",
   "name": "python3"
  },
  "language_info": {
   "codemirror_mode": {
    "name": "ipython",
    "version": 3
   },
   "file_extension": ".py",
   "mimetype": "text/x-python",
   "name": "python",
   "nbconvert_exporter": "python",
   "pygments_lexer": "ipython3",
   "version": "3.9.13"
  }
 },
 "nbformat": 4,
 "nbformat_minor": 5
}
